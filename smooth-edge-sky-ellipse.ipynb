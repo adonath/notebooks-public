{
 "cells": [
  {
   "cell_type": "markdown",
   "metadata": {},
   "source": [
    "# Smooth edges for SkyDisk and SkyEllipse models\n",
    "\n",
    "As we don't integrate of the spatial pixels for the model evaluation, the sharp edges of the `SkyEllipse` as well as `SkyDisk` models lead to fit convergence problems (see https://github.com/gammapy/gammapy/issues/2109). This notebooks explores the possibility of implementing \"smooth\" edges for those models. This is realized by using `scipy.special.erf` instead of a hard criterion, whether the coordinate is inside or outside the disk / ellipse."
   ]
  },
  {
   "cell_type": "code",
   "execution_count": 1,
   "metadata": {},
   "outputs": [],
   "source": [
    "%matplotlib inline\n",
    "import matplotlib.pyplot as plt\n",
    "import numpy as np"
   ]
  },
  {
   "cell_type": "code",
   "execution_count": 2,
   "metadata": {},
   "outputs": [],
   "source": [
    "import astropy.units as u\n",
    "from astropy.coordinates import SkyCoord\n",
    "from gammapy.irf import load_cta_irfs\n",
    "from gammapy.maps import WcsGeom, MapAxis\n",
    "from gammapy.spectrum.models import PowerLaw\n",
    "from gammapy.image.models import SkyEllipse\n",
    "from gammapy.cube.models import SkyModel\n",
    "from gammapy.cube import simulate_dataset\n",
    "from gammapy.utils.fitting import Fit"
   ]
  },
  {
   "cell_type": "code",
   "execution_count": 3,
   "metadata": {},
   "outputs": [],
   "source": [
    "filename = (\n",
    "    \"$GAMMAPY_DATA/cta-1dc/caldb/data/cta/1dc/bcf/South_z20_50h/irf_file.fits\"\n",
    ")\n",
    "irfs = load_cta_irfs(filename)"
   ]
  },
  {
   "cell_type": "code",
   "execution_count": 4,
   "metadata": {},
   "outputs": [
    {
     "name": "stdout",
     "output_type": "stream",
     "text": [
      "SkyModel\n",
      "\n",
      "Parameters: \n",
      "\n",
      "\t   name      value   error      unit         min        max    frozen\n",
      "\t---------- --------- ----- -------------- ---------- --------- ------\n",
      "\t     lon_0 1.000e-01   nan            deg -1.800e+02 1.800e+02  False\n",
      "\t     lat_0 1.000e-01   nan            deg -9.000e+01 9.000e+01  False\n",
      "\tsemi_major 2.000e-01   nan            deg        nan       nan  False\n",
      "\t         e 7.000e-01   nan                 0.000e+00 1.000e+00  False\n",
      "\t     theta 3.000e+01   nan            deg        nan       nan  False\n",
      "\t      edge 1.000e-02   nan            deg  1.000e-02       nan   True\n",
      "\t     index 2.000e+00   nan                       nan       nan  False\n",
      "\t amplitude 1.000e-12   nan cm-2 s-1 TeV-1        nan       nan  False\n",
      "\t reference 1.000e+00   nan            TeV        nan       nan   True\n"
     ]
    }
   ],
   "source": [
    "# Define sky model to simulate the data\n",
    "spatial_model = SkyEllipse(lon_0=\"0.1 deg\", lat_0=\"0.1 deg\", semi_major=\"0.2 deg\", e=0.7, theta=\"30 deg\")\n",
    "\n",
    "spectral_model = PowerLaw(\n",
    "    index=2,\n",
    "    amplitude=\"1e-12 cm-2 s-1 TeV-1\",\n",
    "    reference=\"1 TeV\",\n",
    ")\n",
    "\n",
    "sky_model_simu = SkyModel(\n",
    "    spatial_model=spatial_model, spectral_model=spectral_model\n",
    ")\n",
    "print(sky_model_simu)"
   ]
  },
  {
   "cell_type": "code",
   "execution_count": 5,
   "metadata": {},
   "outputs": [],
   "source": [
    "# Define map geometry\n",
    "axis = MapAxis.from_edges(\n",
    "    np.logspace(-1, 2, 30), unit=\"TeV\", name=\"energy\", interp=\"log\"\n",
    ")\n",
    "geom = WcsGeom.create(\n",
    "    skydir=(0, 0), binsz=0.02, width=(2, 2), coordsys=\"GAL\", axes=[axis]\n",
    ")\n",
    "\n",
    "# Define some observation parameters\n",
    "pointing = SkyCoord(0 * u.deg, 0 * u.deg, frame=\"galactic\")\n",
    "\n",
    "\n",
    "dataset = simulate_dataset(\n",
    "    sky_model_simu, geom, pointing, irfs, livetime=20 * u.h, random_state=42\n",
    ")"
   ]
  },
  {
   "cell_type": "code",
   "execution_count": 6,
   "metadata": {},
   "outputs": [],
   "source": [
    "fit = Fit([dataset])"
   ]
  },
  {
   "cell_type": "code",
   "execution_count": 7,
   "metadata": {},
   "outputs": [],
   "source": [
    "result = fit.run()"
   ]
  },
  {
   "cell_type": "code",
   "execution_count": 8,
   "metadata": {},
   "outputs": [
    {
     "name": "stdout",
     "output_type": "stream",
     "text": [
      "OptimizeResult\n",
      "\n",
      "\tbackend    : minuit\n",
      "\tmethod     : minuit\n",
      "\tsuccess    : True\n",
      "\tnfev       : 221\n",
      "\ttotal stat : -34838.49\n",
      "\tmessage    : Optimization terminated successfully.\n",
      "\n"
     ]
    }
   ],
   "source": [
    "print(result)"
   ]
  },
  {
   "cell_type": "markdown",
   "metadata": {},
   "source": [
    "### Longitude likelihood profile"
   ]
  },
  {
   "cell_type": "code",
   "execution_count": 9,
   "metadata": {},
   "outputs": [],
   "source": [
    "p = fit.likelihood_profile(parameter=\"lon_0\", values=np.linspace(0.095, 0.105, 21))"
   ]
  },
  {
   "cell_type": "code",
   "execution_count": 10,
   "metadata": {},
   "outputs": [
    {
     "data": {
      "text/plain": [
       "Text(0, 0.5, 'Delta TS')"
      ]
     },
     "execution_count": 10,
     "metadata": {},
     "output_type": "execute_result"
    },
    {
     "data": {
      "image/png": "[encoded data removed]",
      "text/plain": [
       "<Figure size 432x288 with 1 Axes>"
      ]
     },
     "metadata": {
      "needs_background": "light"
     },
     "output_type": "display_data"
    }
   ],
   "source": [
    "plt.plot(p[\"values\"], p[\"likelihood\"] - result.total_stat)\n",
    "plt.xlabel(\"Lon (deg)\")\n",
    "plt.ylabel(\"Delta TS\")"
   ]
  },
  {
   "cell_type": "markdown",
   "metadata": {},
   "source": [
    "### Latitude likelihood profile"
   ]
  },
  {
   "cell_type": "code",
   "execution_count": 11,
   "metadata": {},
   "outputs": [],
   "source": [
    "p = fit.likelihood_profile(parameter=\"lat_0\", values=np.linspace(0.095, 0.105, 21))"
   ]
  },
  {
   "cell_type": "code",
   "execution_count": 12,
   "metadata": {},
   "outputs": [
    {
     "data": {
      "text/plain": [
       "Text(0, 0.5, 'Delta TS')"
      ]
     },
     "execution_count": 12,
     "metadata": {},
     "output_type": "execute_result"
    },
    {
     "data": {
      "image/png": "[encoded data removed]",
      "text/plain": [
       "<Figure size 432x288 with 1 Axes>"
      ]
     },
     "metadata": {
      "needs_background": "light"
     },
     "output_type": "display_data"
    }
   ],
   "source": [
    "plt.plot(p[\"values\"], p[\"likelihood\"] - result.total_stat)\n",
    "plt.xlabel(\"Lat (deg)\")\n",
    "plt.ylabel(\"Delta TS\")"
   ]
  },
  {
   "cell_type": "markdown",
   "metadata": {},
   "source": [
    "### Semi major likelihood profile"
   ]
  },
  {
   "cell_type": "code",
   "execution_count": 13,
   "metadata": {},
   "outputs": [],
   "source": [
    "p = fit.likelihood_profile(parameter=\"semi_major\", values=np.linspace(0.195, 0.205, 21))"
   ]
  },
  {
   "cell_type": "code",
   "execution_count": 14,
   "metadata": {},
   "outputs": [
    {
     "data": {
      "text/plain": [
       "Text(0, 0.5, 'Delta TS')"
      ]
     },
     "execution_count": 14,
     "metadata": {},
     "output_type": "execute_result"
    },
    {
     "data": {
      "image/png": "[encoded data removed]",
      "text/plain": [
       "<Figure size 432x288 with 1 Axes>"
      ]
     },
     "metadata": {
      "needs_background": "light"
     },
     "output_type": "display_data"
    }
   ],
   "source": [
    "plt.plot(p[\"values\"], p[\"likelihood\"] - result.total_stat)\n",
    "plt.xlabel(\"Semi major (deg)\")\n",
    "plt.ylabel(\"Delta TS\")"
   ]
  },
  {
   "cell_type": "code",
   "execution_count": null,
   "metadata": {},
   "outputs": [],
   "source": []
  }
 ],
 "metadata": {
  "kernelspec": {
   "display_name": "Python 3",
   "language": "python",
   "name": "python3"
  },
  "language_info": {
   "codemirror_mode": {
    "name": "ipython",
    "version": 3
   },
   "file_extension": ".py",
   "mimetype": "text/x-python",
   "name": "python",
   "nbconvert_exporter": "python",
   "pygments_lexer": "ipython3",
   "version": "3.7.0"
  }
 },
 "nbformat": 4,
 "nbformat_minor": 2
}
