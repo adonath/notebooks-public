{
 "cells": [
  {
   "cell_type": "code",
   "execution_count": 1,
   "metadata": {},
   "outputs": [],
   "source": [
    "%matplotlib inline\n",
    "import matplotlib.pyplot as plt\n",
    "import numpy as np\n",
    "from astropy import units as u"
   ]
  },
  {
   "cell_type": "code",
   "execution_count": 2,
   "metadata": {},
   "outputs": [
    {
     "name": "stderr",
     "output_type": "stream",
     "text": [
      "WARNING: AstropyDeprecationWarning: astropy.extern.six will be removed in 4.0, use the six module directly if it is still needed [astropy.extern.six]\n"
     ]
    }
   ],
   "source": [
    "from gammapy.image.models import SkyGaussian, SkyDisk\n",
    "from gammapy.maps import Map\n",
    "from gammapy.image import measure_image_moments"
   ]
  },
  {
   "cell_type": "markdown",
   "metadata": {},
   "source": [
    "Simulate a disk morphology:"
   ]
  },
  {
   "cell_type": "code",
   "execution_count": 3,
   "metadata": {},
   "outputs": [
    {
     "data": {
      "image/png": "[encoded data removed]",
      "text/plain": [
       "<matplotlib.figure.Figure at 0x7f1691355208>"
      ]
     },
     "metadata": {},
     "output_type": "display_data"
    }
   ],
   "source": [
    "r_0 = 0.2 * u.deg\n",
    "disk = SkyDisk(\"0 deg\", \"0 deg\", r_0)\n",
    "map_disk = Map.create(skydir=(0, 0), width=1, binsz=0.005)\n",
    "\n",
    "coords = map_disk.geom.get_coord()\n",
    "solid_angle = map_disk.geom.solid_angle()\n",
    "\n",
    "map_disk.data = (disk(coords[\"lon\"] * u.deg, coords[\"lat\"] * u.deg) * solid_angle).to_value(\"\")\n",
    "map_disk.plot();"
   ]
  },
  {
   "cell_type": "markdown",
   "metadata": {},
   "source": [
    "Compute image moments:"
   ]
  },
  {
   "cell_type": "code",
   "execution_count": 4,
   "metadata": {},
   "outputs": [],
   "source": [
    "A, x, y, x_rms, y_rms, xy_rms = measure_image_moments(map_disk)"
   ]
  },
  {
   "cell_type": "markdown",
   "metadata": {},
   "source": [
    "The RMS width (which is equivalent to the sigma obtained by fitting a Gaussian morphology) of the disk comes out at:"
   ]
  },
  {
   "cell_type": "code",
   "execution_count": 5,
   "metadata": {},
   "outputs": [
    {
     "name": "stdout",
     "output_type": "stream",
     "text": [
      "0.09997334994175135 deg\n"
     ]
    }
   ],
   "source": [
    "print(x_rms)"
   ]
  },
  {
   "cell_type": "markdown",
   "metadata": {},
   "source": [
    "The width parameter in Fermipy is defined as the 68% containment radius of the spatial model. To convert to the disk radius and / or Gaussian sigma we do the following:"
   ]
  },
  {
   "cell_type": "code",
   "execution_count": 6,
   "metadata": {},
   "outputs": [],
   "source": [
    "def width_disk(radius):\n",
    "    return np.sqrt(0.68) * radius"
   ]
  },
  {
   "cell_type": "code",
   "execution_count": 7,
   "metadata": {},
   "outputs": [],
   "source": [
    "def width_gauss(sigma):\n",
    "    return sigma * np.sqrt(2 * np.log(1 / (1 - 0.68)))"
   ]
  },
  {
   "cell_type": "code",
   "execution_count": 8,
   "metadata": {},
   "outputs": [
    {
     "data": {
      "text/latex": [
       "$1.0927997 \\; \\mathrm{}$"
      ],
      "text/plain": [
       "<Quantity 1.0927997>"
      ]
     },
     "execution_count": 8,
     "metadata": {},
     "output_type": "execute_result"
    }
   ],
   "source": [
    "width_disk(r_0) / width_gauss(x_rms)"
   ]
  },
  {
   "cell_type": "markdown",
   "metadata": {},
   "source": [
    "Which correspondss to the ratio, that Faical obtained from his fit."
   ]
  },
  {
   "cell_type": "code",
   "execution_count": null,
   "metadata": {},
   "outputs": [],
   "source": []
  }
 ],
 "metadata": {
  "kernelspec": {
   "display_name": "Python 3",
   "language": "python",
   "name": "python3"
  },
  "language_info": {
   "codemirror_mode": {
    "name": "ipython",
    "version": 3
   },
   "file_extension": ".py",
   "mimetype": "text/x-python",
   "name": "python",
   "nbconvert_exporter": "python",
   "pygments_lexer": "ipython3",
   "version": "3.8.6"
  }
 },
 "nbformat": 4,
 "nbformat_minor": 2
}
