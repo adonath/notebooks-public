{
 "cells": [
  {
   "cell_type": "markdown",
   "metadata": {},
   "source": [
    "# Rectangular grid vs Carstesian grid interpolation"
   ]
  },
  {
   "cell_type": "code",
   "execution_count": 2,
   "metadata": {},
   "outputs": [],
   "source": [
    "import numpy as np\n",
    "from scipy.ndimage import map_coordinates\n",
    "from scipy.interpolate import RegularGridInterpolator\n",
    "\n",
    "\n",
    "class CartesianGridInterpolator:\n",
    "    def __init__(self, points, values, method='linear'):\n",
    "        self.limits = np.array([[min(x), max(x)] for x in points])\n",
    "        self.values = np.asarray(values, dtype=float)\n",
    "        self.order = {'linear': 1, 'cubic': 3, 'quintic': 5}[method]\n",
    "\n",
    "    def __call__(self, xi):\n",
    "        \"\"\"\n",
    "        `xi` here is an array-like (an array or a list) of points.\n",
    "\n",
    "        Each \"point\" is an ndim-dimensional array_like, representing\n",
    "        the coordinates of a point in ndim-dimensional space.\n",
    "        \"\"\"\n",
    "        # transpose the xi array into the ``map_coordinates`` convention\n",
    "        # which takes coordinates of a point along columns of a 2D array.\n",
    "        xi = np.asarray(xi).T\n",
    "\n",
    "        # convert from data coordinates to pixel coordinates\n",
    "        ns = self.values.shape\n",
    "        coords = [(n-1)*(val - lo) / (hi - lo)\n",
    "                  for val, n, (lo, hi) in zip(xi, ns, self.limits)]\n",
    "\n",
    "        # interpolate\n",
    "        return map_coordinates(self.values, coords,\n",
    "                               order=self.order,\n",
    "                               cval=np.nan)  # fill_value"
   ]
  },
  {
   "cell_type": "code",
   "execution_count": 26,
   "metadata": {},
   "outputs": [],
   "source": [
    "x, y, z = np.linspace(-5, 5, 100), np.linspace(-5, 5, 100), np.linspace(-5, 5, 100)\n",
    "xx, yy, zz = np.meshgrid(x, y, z, indexing='ij')\n",
    "values = xx**3 + yy**3 + zz**3\n",
    "\n",
    "rgi = RegularGridInterpolator((x, y, z), values, method='linear')\n",
    "cgi = CartesianGridInterpolator((x, y, z), values, method='linear')"
   ]
  },
  {
   "cell_type": "code",
   "execution_count": 29,
   "metadata": {},
   "outputs": [],
   "source": [
    "x_fine, y_fine, z_fine = np.linspace(-5, 5, 500), np.linspace(-5, 5, 500), np.linspace(-5, 5, 100)\n",
    "coords = np.array(np.meshgrid(x_fine, y_fine, z_fine, indexing='ij')).reshape(3, -1).T"
   ]
  },
  {
   "cell_type": "code",
   "execution_count": 30,
   "metadata": {},
   "outputs": [
    {
     "name": "stdout",
     "output_type": "stream",
     "text": [
      "8.28 s ± 285 ms per loop (mean ± std. dev. of 7 runs, 1 loop each)\n"
     ]
    }
   ],
   "source": [
    "%%timeit\n",
    "rgi_values = rgi(coords)"
   ]
  },
  {
   "cell_type": "code",
   "execution_count": 31,
   "metadata": {},
   "outputs": [
    {
     "name": "stdout",
     "output_type": "stream",
     "text": [
      "1.42 s ± 22.7 ms per loop (mean ± std. dev. of 7 runs, 1 loop each)\n"
     ]
    }
   ],
   "source": [
    "%%timeit\n",
    "cgi_values = cgi(coords)"
   ]
  },
  {
   "cell_type": "code",
   "execution_count": null,
   "metadata": {},
   "outputs": [],
   "source": []
  }
 ],
 "metadata": {
  "kernelspec": {
   "display_name": "gammapy-1.0",
   "language": "python",
   "name": "python3"
  },
  "language_info": {
   "codemirror_mode": {
    "name": "ipython",
    "version": 3
   },
   "file_extension": ".py",
   "mimetype": "text/x-python",
   "name": "python",
   "nbconvert_exporter": "python",
   "pygments_lexer": "ipython3",
   "version": "3.9.13"
  }
 },
 "nbformat": 4,
 "nbformat_minor": 2
}
