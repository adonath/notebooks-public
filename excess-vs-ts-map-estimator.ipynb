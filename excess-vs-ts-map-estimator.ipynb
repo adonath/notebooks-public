{
 "cells": [
  {
   "cell_type": "markdown",
   "id": "b5744506",
   "metadata": {},
   "source": [
    "# ExcessMapEstimator vs. TSMapEstimator\n",
    "\n",
    "This notebooks compares the results of the full likelihood fitting approach (\"forward folding\") against the Li&Ma solution of the same problem (\"backwards folding\"). The results are expected to be approximately equivalent in case of using a disk kernel for the `TSMapEstimator` and neclecting the effect of the PSF.\n",
    "\n",
    "Results:\n",
    "- The results are indeed equivalent except of the definition of the predicted counts in the null hypothesis case and the upper limits.\n",
    "\n",
    "- The `ExcessMapEstimator` is faster by a factor of 50-100 for ordinary flux and error estimation. Once assymetric errors and ULs are computed the `TSMapEstimator` shows the better performance and is ~2-3 times faster.\n",
    "- The `TSMapEstimator` still shows some boundary effect for the error like maps"
   ]
  },
  {
   "cell_type": "code",
   "execution_count": null,
   "id": "02c747db",
   "metadata": {},
   "outputs": [],
   "source": [
    "from gammapy.estimators import ExcessMapEstimator, TSMapEstimator\n",
    "from gammapy.datasets import MapDataset\n",
    "from gammapy.modeling.models import (\n",
    "    SkyModel,\n",
    "    PowerLawNormSpectralModel,\n",
    "    PowerLawSpectralModel,\n",
    "    DiskSpatialModel\n",
    ")\n",
    "import numpy as np\n",
    "from astropy import units as u\n",
    "import matplotlib.pyplot as plt"
   ]
  },
  {
   "cell_type": "code",
   "execution_count": null,
   "id": "4b2ae44c",
   "metadata": {},
   "outputs": [],
   "source": [
    "dataset = MapDataset.read(\n",
    "    \"$GAMMAPY_DATA/cta-1dc-gc/cta-1dc-gc.fits.gz\", name=\"cta_dataset\"\n",
    ")\n",
    "dataset.psf = None"
   ]
  },
  {
   "cell_type": "code",
   "execution_count": null,
   "id": "e7d71719",
   "metadata": {},
   "outputs": [],
   "source": [
    "est = ExcessMapEstimator(\n",
    "    correlation_radius=\"0.1 deg\",\n",
    ")\n",
    "\n",
    "model = SkyModel(\n",
    "    spectral_model=PowerLawSpectralModel(),\n",
    "    spatial_model=DiskSpatialModel(r_0=\"0.1 deg\")\n",
    ")\n",
    "\n",
    "ts_est = TSMapEstimator(\n",
    "    model=model,\n",
    "    sum_over_energy_groups=True,\n",
    ")"
   ]
  },
  {
   "cell_type": "code",
   "execution_count": null,
   "id": "cbe55336",
   "metadata": {},
   "outputs": [],
   "source": [
    "est_all = ExcessMapEstimator(\n",
    "    correlation_radius=\"0.1 deg\",\n",
    "    selection_optional=\"all\"\n",
    ")\n",
    "\n",
    "\n",
    "ts_est_all = TSMapEstimator(\n",
    "    model=model,\n",
    "    sum_over_energy_groups=True,\n",
    "    selection_optional=\"all\"\n",
    ")"
   ]
  },
  {
   "cell_type": "code",
   "execution_count": null,
   "id": "4aeb4927",
   "metadata": {},
   "outputs": [],
   "source": [
    "%%time\n",
    "result = est.run(dataset=dataset)"
   ]
  },
  {
   "cell_type": "code",
   "execution_count": null,
   "id": "0b1b7278",
   "metadata": {},
   "outputs": [],
   "source": [
    "%%time\n",
    "result_ts = ts_est.run(dataset)"
   ]
  },
  {
   "cell_type": "code",
   "execution_count": null,
   "id": "96174966",
   "metadata": {},
   "outputs": [],
   "source": [
    "%%time\n",
    "result = est_all.run(dataset=dataset)"
   ]
  },
  {
   "cell_type": "code",
   "execution_count": null,
   "id": "933b4927",
   "metadata": {},
   "outputs": [],
   "source": [
    "%%time\n",
    "result_ts = ts_est_all.run(dataset)"
   ]
  },
  {
   "cell_type": "code",
   "execution_count": null,
   "id": "eb82447e",
   "metadata": {},
   "outputs": [],
   "source": [
    "def plot_side_by_side(m_1, m_2, **kwargs):\n",
    "    fig, axes = plt.subplots(\n",
    "        nrows=1, ncols=2, subplot_kw={\"projection\": m_1.geom.wcs}, figsize=(14, 5)\n",
    "    )\n",
    "    m_1.plot(axes[0], **kwargs)\n",
    "    axes[0].set_title(\"ExcessMapEstimator\")\n",
    "    \n",
    "    m_2.plot(axes[1], **kwargs)\n",
    "    axes[1].set_title(\"TSMapEstimator\")"
   ]
  },
  {
   "cell_type": "markdown",
   "id": "a4ed3e59",
   "metadata": {},
   "source": [
    "## Flux"
   ]
  },
  {
   "cell_type": "code",
   "execution_count": null,
   "id": "18ac7a93",
   "metadata": {},
   "outputs": [],
   "source": [
    "plot_side_by_side(\n",
    "    result.flux,\n",
    "    result_ts.flux,\n",
    "    add_cbar=True,\n",
    "    vmin=-0.3e-11,\n",
    "    vmax=2e-11\n",
    ");"
   ]
  },
  {
   "cell_type": "markdown",
   "id": "781fd464",
   "metadata": {},
   "source": [
    "## Flux Error"
   ]
  },
  {
   "cell_type": "code",
   "execution_count": null,
   "id": "0041223d",
   "metadata": {},
   "outputs": [],
   "source": [
    "plot_side_by_side(\n",
    "    result.flux_err,\n",
    "    result_ts.flux_err,\n",
    "    add_cbar=True,\n",
    "    vmin=0.6e-12,\n",
    "    vmax=2e-12\n",
    ");"
   ]
  },
  {
   "cell_type": "markdown",
   "id": "60cbcc49",
   "metadata": {},
   "source": [
    "## Flux UL"
   ]
  },
  {
   "cell_type": "code",
   "execution_count": null,
   "id": "96964787",
   "metadata": {},
   "outputs": [],
   "source": [
    "plot_side_by_side(\n",
    "    result.flux_ul,\n",
    "    result_ts.flux_ul,\n",
    "    add_cbar=True,\n",
    "    vmin=-0.3e-11,\n",
    "    vmax=2e-11\n",
    ");"
   ]
  },
  {
   "cell_type": "markdown",
   "id": "f4450803",
   "metadata": {},
   "source": [
    "## Flux Error Pos."
   ]
  },
  {
   "cell_type": "code",
   "execution_count": null,
   "id": "d772cba5",
   "metadata": {},
   "outputs": [],
   "source": [
    "plot_side_by_side(\n",
    "    result.flux_errp,\n",
    "    result_ts.flux_errp,\n",
    "    add_cbar=True,\n",
    "    vmin=0.6e-12,\n",
    "    vmax=2e-12\n",
    ");"
   ]
  },
  {
   "cell_type": "markdown",
   "id": "722f0ead",
   "metadata": {},
   "source": [
    "## Flux Error Neg."
   ]
  },
  {
   "cell_type": "code",
   "execution_count": null,
   "id": "2857a6d4",
   "metadata": {},
   "outputs": [],
   "source": [
    "#result._data[\"norm_errn\"].data *= -1\n",
    "\n",
    "plot_side_by_side(\n",
    "    result.flux_errn,\n",
    "    result_ts.flux_errn,\n",
    "    add_cbar=True,\n",
    "    vmin=0.6e-12,\n",
    "    vmax=2e-12\n",
    ");"
   ]
  },
  {
   "cell_type": "markdown",
   "id": "6ee4abff",
   "metadata": {},
   "source": [
    "## Sqrt(TS)"
   ]
  },
  {
   "cell_type": "code",
   "execution_count": null,
   "id": "cdf612a0",
   "metadata": {},
   "outputs": [],
   "source": [
    "plot_side_by_side(\n",
    "    result.sqrt_ts,\n",
    "    result_ts.sqrt_ts,\n",
    "    add_cbar=True,\n",
    "    vmin=0,\n",
    "    vmax=20,\n",
    "    stretch=\"sqrt\"\n",
    ");"
   ]
  },
  {
   "cell_type": "markdown",
   "id": "fc2c9d39",
   "metadata": {},
   "source": [
    "## NPred Excess"
   ]
  },
  {
   "cell_type": "code",
   "execution_count": null,
   "id": "a65154a7",
   "metadata": {},
   "outputs": [],
   "source": [
    "plot_side_by_side(\n",
    "    result.npred_excess,\n",
    "    result_ts.npred_excess,\n",
    "    add_cbar=True,\n",
    "    vmin=0,\n",
    "    vmax=500,\n",
    "    stretch=\"sqrt\"\n",
    ");"
   ]
  },
  {
   "cell_type": "markdown",
   "id": "f799fa06",
   "metadata": {},
   "source": [
    "## NPred Null"
   ]
  },
  {
   "cell_type": "code",
   "execution_count": null,
   "id": "d8f86751",
   "metadata": {},
   "outputs": [],
   "source": [
    "plot_side_by_side(\n",
    "    result.npred_null,\n",
    "    result_ts.npred_null,\n",
    "    add_cbar=True,\n",
    "    vmin=0,\n",
    "    vmax=500,\n",
    ");"
   ]
  }
 ],
 "metadata": {
  "kernelspec": {
   "display_name": "Python 3",
   "language": "python",
   "name": "python3"
  },
  "language_info": {
   "codemirror_mode": {
    "name": "ipython",
    "version": 3
   },
   "file_extension": ".py",
   "mimetype": "text/x-python",
   "name": "python",
   "nbconvert_exporter": "python",
   "pygments_lexer": "ipython3",
   "version": "3.7.0"
  }
 },
 "nbformat": 4,
 "nbformat_minor": 5
}
