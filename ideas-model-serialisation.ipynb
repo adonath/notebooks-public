{
 "cells": [
  {
   "cell_type": "markdown",
   "metadata": {},
   "source": [
    "# Ideas / plans for model serialisation"
   ]
  },
  {
   "cell_type": "code",
   "execution_count": null,
   "metadata": {},
   "outputs": [],
   "source": [
    "from gammapy.spectrum.models import SpectralModel, PowerLaw\n",
    "from gammapy.cube.models import SkyModel\n",
    "from gammapy.image.models import SkySpatialModel"
   ]
  },
  {
   "cell_type": "markdown",
   "metadata": {},
   "source": [
    "## 1. Pull Request\n",
    "\n",
    "Allow dictionaries for parameter values, to specify `min`, `max` and `frozen` etc. for each parameter on init:"
   ]
  },
  {
   "cell_type": "code",
   "execution_count": null,
   "metadata": {},
   "outputs": [],
   "source": [
    "pwl = PowerLaw(\n",
    "    amplitude={\"value\": \"1e-12 TeV-1 cm-2 s-2\"},\n",
    "    index={\"value\": 2.3, \"min\": 2.0},\n",
    "    reference={\"value\": \"1 TeV\", \"frozen\": True}\n",
    ")"
   ]
  },
  {
   "cell_type": "markdown",
   "metadata": {},
   "source": [
    "This can be achieved by handling the case `if isinstance(factor, dict):` in https://github.com/gammapy/gammapy/blob/master/gammapy/utils/fitting/parameter.py#L56."
   ]
  },
  {
   "cell_type": "markdown",
   "metadata": {},
   "source": [
    "## 2. Pull Request\n",
    "Add `.create()` factory methods to the spectral, spatial and cube base classes. The actual implementation can be the same as https://github.com/gammapy/gammapy/blob/master/gammapy/spectrum/models.py#L221. But instead of calling `Parameters.from_dict()`, pass the dictionaries to `__init__`, as outlined above. Covariance can be ignored for now. The translation from model types to classes is done using `globals()`, which is an acceptable solution for now.\n",
    "\n",
    "This is how the `.create()` methods are used:"
   ]
  },
  {
   "cell_type": "code",
   "execution_count": null,
   "metadata": {},
   "outputs": [],
   "source": [
    "pwl = SpectralModel.create(type=\"PowerLaw\", amplitude={}, ...)\n",
    "gauss = SkySpatialModel.create(type=\"SkyGaussian\", lon_0={}, ...)\n",
    "source = SkyModel.create(\n",
    "    spatial_type=\"SkyGaussian\",\n",
    "    spectral_type=\"PowerLaw\",\n",
    "    name=\"source-abc\",\n",
    "    lon_0={},\n",
    "    lat_0={},\n",
    "    index={},\n",
    ")"
   ]
  },
  {
   "cell_type": "markdown",
   "metadata": {},
   "source": [
    "The `SkyModel.create()` calls internally `SkySpatialModel.create()` and `SpectralModel.create()`. To separate the spatial from the spectral parameters one could use the following: "
   ]
  },
  {
   "cell_type": "code",
   "execution_count": null,
   "metadata": {},
   "outputs": [],
   "source": [
    "spectral_pars = globals()[\"PowerLaw\"].__slots__\n",
    "kwargs_spectral = {name: kwargs[name] for name in kwargs if name in spectral_pars}"
   ]
  },
  {
   "cell_type": "markdown",
   "metadata": {},
   "source": [
    "If this seems to complicated, the following pattern could be used as well:"
   ]
  },
  {
   "cell_type": "code",
   "execution_count": null,
   "metadata": {},
   "outputs": [],
   "source": [
    "source = SkyModel.create(\n",
    "    spatial_type=\"SkyGaussian\",\n",
    "    spectral_type=\"PowerLaw\",\n",
    "    name=\"source-abc\",\n",
    "    spatial_pars={},\n",
    "    spectral_pars={},\n",
    ")"
   ]
  },
  {
   "cell_type": "markdown",
   "metadata": {},
   "source": [
    "## 3. Pull Request\n",
    "\n",
    "Add a `Parameter.to_yaml_dict()` method:"
   ]
  },
  {
   "cell_type": "code",
   "execution_count": null,
   "metadata": {},
   "outputs": [],
   "source": [
    "pwl.amplitude.to_yaml_dict()"
   ]
  },
  {
   "cell_type": "markdown",
   "metadata": {},
   "source": [
    "Which should return the following:"
   ]
  },
  {
   "cell_type": "code",
   "execution_count": null,
   "metadata": {},
   "outputs": [],
   "source": [
    "{\n",
    "    \"value\": \"1.23456e-12 TeV-1 cm-2 s-1\",\n",
    "    \"frozen\": True,\n",
    "    \"min\": \"1e-13 TeV-1 cm-2 s-1\",\n",
    "    \"max\": \"1e-10 TeV-1 cm-2 s-1\"\n",
    "}"
   ]
  },
  {
   "cell_type": "markdown",
   "metadata": {},
   "source": [
    "Entries in this dict are only added if they differ from the defaults:\n",
    "\n",
    "```\n",
    "frozen=False\n",
    "min=np.nan\n",
    "max=np.nan\n",
    "```\n",
    "\n",
    "The separate handling of `scale` and `value` is not needed and should be hidden from the user.\n",
    "\n",
    "Add a `Parameters.to_yaml_dict()` method:"
   ]
  },
  {
   "cell_type": "code",
   "execution_count": null,
   "metadata": {},
   "outputs": [],
   "source": [
    "pwl.parameters.to_yaml_dict()"
   ]
  },
  {
   "cell_type": "markdown",
   "metadata": {},
   "source": [
    "Which should return:"
   ]
  },
  {
   "cell_type": "code",
   "execution_count": null,
   "metadata": {},
   "outputs": [],
   "source": [
    "{\n",
    "    \"amplitude\": {\"value\": \"1.23456e-12 TeV-1 cm-2 s-1\", \"frozen\": True},\n",
    "    \"index\": {\"value\": 2.3, \"frozen\": True},\n",
    "    \"reference\": {\"value\": \"1 TeV\", \"frozen\": True}\n",
    "}"
   ]
  },
  {
   "cell_type": "markdown",
   "metadata": {},
   "source": [
    "## 4.Pull Request\n",
    "\n",
    "Add a `.to_dict()` method to the Model base class:"
   ]
  },
  {
   "cell_type": "code",
   "execution_count": null,
   "metadata": {},
   "outputs": [],
   "source": [
    "pwl.to_dict()"
   ]
  },
  {
   "cell_type": "markdown",
   "metadata": {},
   "source": [
    "Which should return:"
   ]
  },
  {
   "cell_type": "code",
   "execution_count": null,
   "metadata": {},
   "outputs": [],
   "source": [
    "{\n",
    "\"type\": \"PowerLaw\",\n",
    "\"name\": \"source-xyz\",\n",
    "\"parameters\":\n",
    "    {\n",
    "        \"amplitude\": {\"value\": \"1.23456e-12 TeV-1 cm-2 s-1\", \"frozen\": True},\n",
    "        \"index\": {\"value\": 2.3, \"frozen\": True},\n",
    "        \"reference\": {\"value\": \"1 TeV\", \"frozen\": True}\n",
    "    }\n",
    "}"
   ]
  },
  {
   "cell_type": "markdown",
   "metadata": {},
   "source": [
    "The `SkyModel`, `SkyDiffuseCube` and `SkyDiffuseMap` require as special `.to_dict()` method, to handle filenames and spectral / spatial models.\n",
    "\n",
    "The `SkyModel.to_dict()` calls `.spectra_model.to_dict()` and `.spatial_model.to_dict()` and should return:"
   ]
  },
  {
   "cell_type": "code",
   "execution_count": null,
   "metadata": {},
   "outputs": [],
   "source": [
    "{\n",
    "    \"spectral-model\": {},\n",
    "    \"spatial-model\": {}\n",
    "}"
   ]
  },
  {
   "cell_type": "markdown",
   "metadata": {},
   "source": [
    "The `SkyModels` class should implement a `.to_list()` method, which calls `SkyModel.to_dict()` in a loop and appends the results:"
   ]
  },
  {
   "cell_type": "code",
   "execution_count": null,
   "metadata": {},
   "outputs": [],
   "source": [
    "models = SkyModels()\n",
    "models.to_list()"
   ]
  },
  {
   "cell_type": "markdown",
   "metadata": {},
   "source": [
    "In addition it should implement `.read()` and `.write()`. For now we support only the yaml format. The support for xml can be removed."
   ]
  },
  {
   "cell_type": "code",
   "execution_count": null,
   "metadata": {},
   "outputs": [],
   "source": [
    "models = SkyModels.read(\"model.yaml\")\n",
    "model.write(\"models.yaml\")"
   ]
  },
  {
   "cell_type": "markdown",
   "metadata": {},
   "source": [
    "Finally this should simplify the actual YAML serialization, so that it becomes even more readable / editable by humans. Here an example YAML serialization for spectral model:\n",
    "\n",
    "```\n",
    "type: PowerLaw\n",
    "name: source-xyz\n",
    "parameters:\n",
    "    amplitude:\n",
    "        value: 1e-12 TeV-1 cm-2 s-1\n",
    "        frozen: False\n",
    "    index:\n",
    "        value: 2.3\n",
    "        min: 2.0\n",
    "        max: 2.5\n",
    "        frozen: False\n",
    "    reference:\n",
    "        value: 1 TeV\n",
    "        frozen: True\n",
    "```\n",
    "\n",
    "And the same for `SkyModels` objects:\n",
    "\n",
    "```\n",
    "sources:\n",
    "  - name : source-abc\n",
    "    type: SkyModel\n",
    "    obs-id: global\n",
    "    spatial-model:\n",
    "        type: SkyGaussian\n",
    "        parameters: \n",
    "            lon_0:\n",
    "                value: 0 deg\n",
    "                frozen: False\n",
    "            lat_0:\n",
    "                value: 0 deg\n",
    "                frozen: False\n",
    "            sigma:\n",
    "                value: 0.1 deg\n",
    "                frozen: False\n",
    "                min: 0.05 deg\n",
    "                max: 0.2 deg\n",
    "    spectral-model:\n",
    "        type: PowerLaw\n",
    "        parameters:\n",
    "            amplitude:\n",
    "                value: 1e-12 TeV-s cm-2 s-1\n",
    "                frozen: False\n",
    "            index:\n",
    "                value: 2.3\n",
    "                min: 2.0\n",
    "                max: 2.5\n",
    "                frozen: False\n",
    "            reference:\n",
    "                value: 1 TeV\n",
    "                frozen: True\n",
    "  - name : source-xyz\n",
    "    type: SkyDiffuseCube\n",
    "    filename: diffuse-model.fits\n",
    "    obs-id: global\n",
    "    parameters:\n",
    "        norm:\n",
    "            value: 1\n",
    "            frozen: False\n",
    "         tilt:\n",
    "            value: 0\n",
    "            frozen: True\n",
    "         reference:\n",
    "             value: 1 TeV\n",
    "             frozen: True\n",
    "```"
   ]
  },
  {
   "cell_type": "code",
   "execution_count": null,
   "metadata": {},
   "outputs": [],
   "source": []
  }
 ],
 "metadata": {
  "kernelspec": {
   "display_name": "Python 3",
   "language": "python",
   "name": "python3"
  },
  "language_info": {
   "codemirror_mode": {
    "name": "ipython",
    "version": 3
   },
   "file_extension": ".py",
   "mimetype": "text/x-python",
   "name": "python",
   "nbconvert_exporter": "python",
   "pygments_lexer": "ipython3",
   "version": "3.7.0"
  }
 },
 "nbformat": 4,
 "nbformat_minor": 2
}
