{
 "cells": [
  {
   "cell_type": "markdown",
   "metadata": {},
   "source": [
    "# Spectral analysis using background templates with Gammapy\n",
    "\n",
    "This notebook is a prototype for a spectal analysis of an extended source using background templates."
   ]
  },
  {
   "cell_type": "markdown",
   "metadata": {},
   "source": [
    "## Setup"
   ]
  },
  {
   "cell_type": "code",
   "execution_count": 1,
   "metadata": {},
   "outputs": [],
   "source": [
    "%matplotlib inline\n",
    "import numpy as np\n",
    "import matplotlib.pyplot as plt\n",
    "from astropy import units as u\n",
    "from pathlib import Path"
   ]
  },
  {
   "cell_type": "code",
   "execution_count": 2,
   "metadata": {},
   "outputs": [],
   "source": [
    "from gammapy.data import DataStore\n",
    "from gammapy.utils.fitting import Fit\n",
    "from gammapy.spectrum.models import ExponentialCutoffPowerLaw\n",
    "from gammapy.spectrum import CountsSpectrum, SpectrumDataset\n",
    "from astropy.coordinates import SkyCoord\n",
    "from regions import CircleSkyRegion\n",
    "from gammapy.maps import Map, MapAxis, WcsGeom\n",
    "from gammapy.cube import MapMaker, MapDataset\n",
    "from gammapy.cube.models import BackgroundModel\n",
    "from gammapy.catalog import SourceCatalogHGPS\n",
    "from gammapy.irf import EffectiveAreaTable\n",
    "from gammapy.utils.fitting import Fit"
   ]
  },
  {
   "cell_type": "code",
   "execution_count": 3,
   "metadata": {},
   "outputs": [],
   "source": [
    "HGPS_CATALOG = SourceCatalogHGPS()\n",
    "\n",
    "# whether ro run data reduction\n",
    "DATA_REDUCTION = False"
   ]
  },
  {
   "cell_type": "markdown",
   "metadata": {},
   "source": [
    "## Data selection"
   ]
  },
  {
   "cell_type": "code",
   "execution_count": 4,
   "metadata": {},
   "outputs": [],
   "source": [
    "data_store = DataStore.from_file(\n",
    "    \"$GAMMAPY_DATA/hess-dl3-dr1/hess-dl3-dr3-with-background.fits.gz\"\n",
    ")\n",
    "\n",
    "# select target\n",
    "mask = data_store.obs_table[\"TARGET_NAME\"] == \"RX J1713.7-3946\"\n",
    "obs_table = data_store.obs_table[mask]\n",
    "\n",
    "# get observations\n",
    "observations = data_store.get_observations(obs_table[\"OBS_ID\"])"
   ]
  },
  {
   "cell_type": "markdown",
   "metadata": {},
   "source": [
    "## Analysis setup"
   ]
  },
  {
   "cell_type": "code",
   "execution_count": 5,
   "metadata": {},
   "outputs": [],
   "source": [
    "rxj_1713 = HGPS_CATALOG[\"RX J1713.7-3946\"]\n",
    "\n",
    "# energy binning\n",
    "energy_axis = MapAxis.from_bounds(0.1, 30, nbin=30, unit=\"TeV\", name=\"energy\", interp=\"log\")\n",
    "\n",
    "# spatial binning\n",
    "geom = WcsGeom.create(\n",
    "    skydir=rxj_1713.position,\n",
    "    axes=[energy_axis],\n",
    "    binsz=0.02,\n",
    "    width=\"5 deg\",\n",
    "    coordsys=\"GAL\"\n",
    ")\n",
    "\n",
    "# analysis region for spectrum\n",
    "region = CircleSkyRegion(center=rxj_1713.position, radius=0.5 * u.deg)"
   ]
  },
  {
   "cell_type": "markdown",
   "metadata": {},
   "source": [
    "## Data reduction\n",
    "\n",
    "We first run a 3D data reduction:"
   ]
  },
  {
   "cell_type": "code",
   "execution_count": 6,
   "metadata": {},
   "outputs": [],
   "source": [
    "if DATA_REDUCTION:\n",
    "    for obs in observations:\n",
    "        map_maker = MapMaker(geom=geom, offset_max=\"2.5 deg\")\n",
    "        maps = map_maker.run([obs])\n",
    "\n",
    "        path = Path(\"obs_{}\".format(obs.obs_id))\n",
    "        path.mkdir(exist_ok=True)\n",
    "        \n",
    "        offset = rxj_1713.position.separation(obs.pointing_radec)\n",
    "        edisp = obs.edisp.to_energy_dispersion(offset=offset, e_true=energy_axis.edges, e_reco=energy_axis.edges)\n",
    "        \n",
    "        emin = edisp.get_bias_energy(0.1)\n",
    "        \n",
    "        dataset = MapDataset(\n",
    "            counts=maps[\"counts\"],\n",
    "            background_model=BackgroundModel(maps[\"background\"]),\n",
    "            exposure=maps[\"exposure\"],\n",
    "            edisp=edisp,\n",
    "            mask_safe=geom.energy_mask(emin=emin)\n",
    "        )\n",
    "\n",
    "        dataset.write(path / \"map_dataset.fits.gz\", overwrite=True)"
   ]
  },
  {
   "cell_type": "markdown",
   "metadata": {},
   "source": [
    "This is a little helper function to reduce a 3D dataset to a spectral dataset. For this we sum the counts and background in the region of interest and average the exposure in the same region. "
   ]
  },
  {
   "cell_type": "code",
   "execution_count": 7,
   "metadata": {},
   "outputs": [],
   "source": [
    "def to_spectrum_dataset(obs, dataset, region):\n",
    "    # reduce 3D maps to spectrum in a given region\n",
    "    counts = dataset.counts.get_spectrum(region, func=np.nansum)\n",
    "    background_map = dataset.background_model.evaluate()\n",
    "    background = background_map.get_spectrum(region, func=np.nansum)\n",
    "    exposure = dataset.exposure.get_spectrum(region, func=np.nanmean)\n",
    "    \n",
    "    livetime = obs.observation_live_time_duration\n",
    "    \n",
    "    edges = exposure.energy.edges\n",
    "    data = exposure.quantity / livetime\n",
    "    \n",
    "    aeff = EffectiveAreaTable(\n",
    "        energy_hi=edges[1:],\n",
    "        energy_lo=edges[:-1],\n",
    "        data=data\n",
    "    )\n",
    "    \n",
    "    return SpectrumDataset(\n",
    "        counts=counts,\n",
    "        background=background,\n",
    "        aeff=aeff,\n",
    "        livetime=livetime,\n",
    "        edisp=dataset.edisp,\n",
    "        obs_id=obs.obs_id,\n",
    "    )\n",
    "    "
   ]
  },
  {
   "cell_type": "markdown",
   "metadata": {},
   "source": [
    "## Background fitting and spectral data reduction\n",
    "\n",
    "As a simple first step to improve the background model, we fit it outside the analysis region to the data. For this we allow the `norm` and `tilt` parameter to vary:"
   ]
  },
  {
   "cell_type": "code",
   "execution_count": 15,
   "metadata": {},
   "outputs": [],
   "source": [
    "datasets = []\n",
    "\n",
    "for obs in observations:\n",
    "    dataset = MapDataset.read(\"obs_{}/map_dataset.fits.gz\".format(obs.obs_id))\n",
    "    \n",
    "    # create fit mask \n",
    "    mask_fit = dataset.counts.geom.region_mask([region], inside=False)\n",
    "    dataset.mask_fit = mask_fit\n",
    "    dataset.background_model.tilt.frozen = False \n",
    "    \n",
    "    # optimize background parameters\n",
    "    fit = Fit(dataset)\n",
    "    result = fit.optimize()\n",
    "    \n",
    "    # reduce map dataset to spectrum the analysis region\n",
    "    spectrum_dataset = to_spectrum_dataset(obs, dataset, region)\n",
    "    datasets.append(spectrum_dataset)"
   ]
  },
  {
   "cell_type": "markdown",
   "metadata": {},
   "source": [
    "## Spectral model fitting"
   ]
  },
  {
   "cell_type": "code",
   "execution_count": 20,
   "metadata": {},
   "outputs": [],
   "source": [
    "# spectral model from the 2016 analysis paper \n",
    "model = rxj_1713.spectral_model().copy()\n",
    "\n",
    "# for now we choose a 1 TeV min energy threshold, because the background model\n",
    "# is still very bad a low energies...\n",
    "mask_fit = spectrum_dataset.counts.energy_mask(emin=1 * u.TeV)\n",
    "\n",
    "# set model and enery threshold\n",
    "for dataset in datasets:\n",
    "    dataset.model = model\n",
    "    dataset.mask_fit = mask_fit"
   ]
  },
  {
   "cell_type": "code",
   "execution_count": 10,
   "metadata": {},
   "outputs": [],
   "source": [
    "fit = Fit(datasets)\n",
    "result = fit.optimize()"
   ]
  },
  {
   "cell_type": "code",
   "execution_count": 11,
   "metadata": {},
   "outputs": [
    {
     "name": "stdout",
     "output_type": "stream",
     "text": [
      "OptimizeResult\n",
      "\n",
      "\tbackend    : minuit\n",
      "\tmethod     : minuit\n",
      "\tsuccess    : True\n",
      "\tmessage    : Optimization terminated successfully.\n",
      "\tnfev       : 76\n",
      "\ttotal stat : -817.32\n",
      "\n"
     ]
    }
   ],
   "source": [
    "print(result)"
   ]
  },
  {
   "cell_type": "markdown",
   "metadata": {},
   "source": [
    "## Results"
   ]
  },
  {
   "cell_type": "code",
   "execution_count": 12,
   "metadata": {},
   "outputs": [
    {
     "data": {
      "text/plain": [
       "<matplotlib.legend.Legend at 0x10ef85780>"
      ]
     },
     "execution_count": 12,
     "metadata": {},
     "output_type": "execute_result"
    },
    {
     "data": {
      "image/png": "[encoded data removed]",
      "text/plain": [
       "<Figure size 432x288 with 1 Axes>"
      ]
     },
     "metadata": {
      "needs_background": "light"
     },
     "output_type": "display_data"
    }
   ],
   "source": [
    "model_reference = rxj_1713.spectral_model()\n",
    "energy_range = [0.5, 30] * u.TeV \n",
    "\n",
    "ax = model_reference.plot(energy_range=energy_range, energy_power=2, label=\"Reference 2016\")\n",
    "model_reference.plot_error(ax=ax, energy_range=energy_range, energy_power=2)\n",
    "\n",
    "model.plot(ax=ax, energy_range=energy_range, energy_power=2, label=\"This analysis\");\n",
    "plt.legend()"
   ]
  },
  {
   "cell_type": "code",
   "execution_count": 13,
   "metadata": {},
   "outputs": [
    {
     "name": "stdout",
     "output_type": "stream",
     "text": [
      "ExponentialCutoffPowerLaw\n",
      "\n",
      "Parameters: \n",
      "\n",
      "\t   name     value     error        unit      min max frozen\n",
      "\t--------- --------- --------- -------------- --- --- ------\n",
      "\t    index 2.090e+00 2.000e-02                nan nan  False\n",
      "\tamplitude 2.251e-11 1.000e-12 cm-2 s-1 TeV-1 nan nan  False\n",
      "\treference 1.000e+00 0.000e+00            TeV nan nan   True\n",
      "\t  lambda_ 6.955e-02 6.610e-03          TeV-1 nan nan  False\n",
      "\n",
      "Covariance: \n",
      "\n",
      "\t   name     index   amplitude reference  lambda_ \n",
      "\t--------- --------- --------- --------- ---------\n",
      "\t    index 4.000e-04 0.000e+00 0.000e+00 0.000e+00\n",
      "\tamplitude 0.000e+00 1.000e-24 0.000e+00 0.000e+00\n",
      "\treference 0.000e+00 0.000e+00 0.000e+00 0.000e+00\n",
      "\t  lambda_ 0.000e+00 0.000e+00 0.000e+00 4.369e-05\n"
     ]
    }
   ],
   "source": [
    "print(dataset.model)"
   ]
  },
  {
   "cell_type": "code",
   "execution_count": 14,
   "metadata": {},
   "outputs": [
    {
     "name": "stdout",
     "output_type": "stream",
     "text": [
      "ExponentialCutoffPowerLaw\n",
      "\n",
      "Parameters: \n",
      "\n",
      "\t   name     value     error        unit      min max frozen\n",
      "\t--------- --------- --------- -------------- --- --- ------\n",
      "\t    index 2.060e+00 2.000e-02                nan nan  False\n",
      "\tamplitude 2.300e-11 1.000e-12 cm-2 s-1 TeV-1 nan nan  False\n",
      "\treference 1.000e+00 0.000e+00            TeV nan nan   True\n",
      "\t  lambda_ 7.752e-02 6.610e-03          TeV-1 nan nan  False\n",
      "\n",
      "Covariance: \n",
      "\n",
      "\t   name     index   amplitude reference  lambda_ \n",
      "\t--------- --------- --------- --------- ---------\n",
      "\t    index 4.000e-04 0.000e+00 0.000e+00 0.000e+00\n",
      "\tamplitude 0.000e+00 1.000e-24 0.000e+00 0.000e+00\n",
      "\treference 0.000e+00 0.000e+00 0.000e+00 0.000e+00\n",
      "\t  lambda_ 0.000e+00 0.000e+00 0.000e+00 4.369e-05\n"
     ]
    }
   ],
   "source": [
    "print(model_reference)"
   ]
  }
 ],
 "metadata": {
  "kernelspec": {
   "display_name": "Python 3",
   "language": "python",
   "name": "python3"
  },
  "language_info": {
   "codemirror_mode": {
    "name": "ipython",
    "version": 3
   },
   "file_extension": ".py",
   "mimetype": "text/x-python",
   "name": "python",
   "nbconvert_exporter": "python",
   "pygments_lexer": "ipython3",
   "version": "3.7.0"
  }
 },
 "nbformat": 4,
 "nbformat_minor": 2
}
