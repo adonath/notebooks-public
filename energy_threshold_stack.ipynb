{
 "cells": [
  {
   "cell_type": "markdown",
   "metadata": {},
   "source": [
    "# Energy Threshold Handling for Stacking Datasets"
   ]
  },
  {
   "cell_type": "code",
   "execution_count": null,
   "metadata": {},
   "outputs": [],
   "source": [
    "%matplotlib inline\n",
    "import numpy as np\n",
    "import matplotlib.pyplot as plt\n",
    "from astropy import units as u\n",
    "from astropy.coordinates import SkyCoord\n",
    "import copy"
   ]
  },
  {
   "cell_type": "code",
   "execution_count": null,
   "metadata": {},
   "outputs": [],
   "source": [
    "from gammapy.datasets import SpectrumDataset\n",
    "from gammapy.datasets.map import MIGRA_AXIS_DEFAULT\n",
    "from gammapy.irf import EffectiveAreaTable2D, EnergyDispersion2D\n",
    "from gammapy.maps import MapAxis, RegionNDMap, RegionGeom\n",
    "from gammapy.modeling.models import PowerLawSpectralModel, SkyModel\n",
    "from gammapy.data import GTI, Observation\n",
    "from gammapy.makers import SpectrumDatasetMaker"
   ]
  },
  {
   "cell_type": "code",
   "execution_count": null,
   "metadata": {},
   "outputs": [],
   "source": [
    "energy_true = MapAxis.from_energy_bounds(\"0.1 TeV\", \"20 TeV\", nbin=20, per_decade=True, name=\"energy_true\")\n",
    "energy_reco = MapAxis.from_energy_bounds(\"0.2 TeV\", \"10 TeV\", nbin=10, per_decade=True)"
   ]
  },
  {
   "cell_type": "code",
   "execution_count": null,
   "metadata": {},
   "outputs": [],
   "source": [
    "aeff = EffectiveAreaTable2D.from_parametrization(energy_axis_true=energy_true, instrument=\"HESS\")\n",
    "offset_axis = MapAxis.from_bounds(0 * u.deg, 5 * u.deg, nbin=2, name=\"offset\")\n",
    "\n",
    "edisp = EnergyDispersion2D.from_gauss(\n",
    "    energy_axis_true=energy_true,\n",
    "    offset_axis=offset_axis,\n",
    "    migra_axis=MIGRA_AXIS_DEFAULT,\n",
    "    bias=0,\n",
    "    sigma=0.2\n",
    ")\n",
    "\n",
    "observation = Observation.create(\n",
    "    obs_id=0,\n",
    "    pointing=SkyCoord(\"0d\", \"0d\", frame=\"icrs\"),\n",
    "    irfs={\"aeff\": aeff, \"edisp\": edisp},\n",
    "    tstart=0 * u.h,\n",
    "    tstop=0.5 * u.h\n",
    ")"
   ]
  },
  {
   "cell_type": "code",
   "execution_count": null,
   "metadata": {},
   "outputs": [],
   "source": [
    "geom = RegionGeom.create(\"icrs;circle(0, 0, 0.1)\", axes=[energy_reco])"
   ]
  },
  {
   "cell_type": "code",
   "execution_count": null,
   "metadata": {},
   "outputs": [],
   "source": [
    "stacked = SpectrumDataset.create(geom=geom, energy_axis_true=energy_true)\n",
    "\n",
    "maker = SpectrumDatasetMaker(selection=[\"edisp\", \"exposure\"])\n",
    "\n",
    "dataset_1 = maker.run(stacked.copy(), observation=observation)\n",
    "dataset_2 = maker.run(stacked.copy(), observation=observation)"
   ]
  },
  {
   "cell_type": "code",
   "execution_count": null,
   "metadata": {},
   "outputs": [],
   "source": [
    "pwl = PowerLawSpectralModel()\n",
    "model = SkyModel(spectral_model=pwl, name=\"test-source\")"
   ]
  },
  {
   "cell_type": "code",
   "execution_count": null,
   "metadata": {},
   "outputs": [],
   "source": [
    "dataset_1.mask_safe = geom.energy_mask(energy_min=2 * u.TeV)\n",
    "dataset_2.mask_safe = geom.energy_mask(energy_min=0.6 * u.TeV)\n",
    "\n",
    "dataset_1.models = model\n",
    "dataset_2.models = model\n",
    "dataset_1.counts = dataset_1.npred()\n",
    "dataset_2.counts = dataset_2.npred()"
   ]
  },
  {
   "cell_type": "code",
   "execution_count": null,
   "metadata": {},
   "outputs": [],
   "source": [
    "stacked = dataset_1.copy(name=\"stacked\")\n",
    "stacked.stack(dataset_2)\n",
    "\n",
    "stacked.models = model\n",
    "npred_stacked = stacked.npred()"
   ]
  },
  {
   "cell_type": "code",
   "execution_count": null,
   "metadata": {},
   "outputs": [],
   "source": [
    "fig, axes = plt.subplots(nrows=1, ncols=2, figsize=(12, 4))\n",
    "\n",
    "axes[0].set_title(\"Stacked Energy Dispersion Matrix\")\n",
    "axes[1].set_title(\"Predicted Counts\")\n",
    "stacked.edisp.get_edisp_kernel().plot_matrix(ax=axes[0])\n",
    "npred_stacked.plot_hist(ax=axes[1], label=\"npred stacked\")\n",
    "stacked.counts.plot_hist(ax=axes[1], ls=\"--\", label=\"stacked npred\")\n",
    "plt.legend()"
   ]
  },
  {
   "cell_type": "code",
   "execution_count": null,
   "metadata": {},
   "outputs": [],
   "source": []
  }
 ],
 "metadata": {
  "kernelspec": {
   "display_name": "Python 3",
   "language": "python",
   "name": "python3"
  },
  "language_info": {
   "codemirror_mode": {
    "name": "ipython",
    "version": 3
   },
   "file_extension": ".py",
   "mimetype": "text/x-python",
   "name": "python",
   "nbconvert_exporter": "python",
   "pygments_lexer": "ipython3",
   "version": "3.8.6"
  }
 },
 "nbformat": 4,
 "nbformat_minor": 2
}
