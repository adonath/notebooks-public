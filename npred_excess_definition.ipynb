{
 "cells": [
  {
   "cell_type": "markdown",
   "metadata": {},
   "source": [
    "# Definition of Excess\n",
    "\n",
    "This notebook illustrates an inconsistency in the definition of excess between forward and backwards folding. Note this is not a real issue, but just related to the way we currently define excess in the forward folding case."
   ]
  },
  {
   "cell_type": "code",
   "execution_count": 13,
   "metadata": {},
   "outputs": [],
   "source": [
    "from gammapy.stats import WStatCountsStatistic\n",
    "from gammapy.datasets import SpectrumDatasetOnOff, SpectrumDataset\n",
    "from gammapy.maps import RegionGeom, MapAxis\n",
    "from gammapy.modeling.models import SkyModel, PowerLawSpectralModel\n",
    "from astropy import units as u\n",
    "import numpy as np"
   ]
  },
  {
   "cell_type": "code",
   "execution_count": 14,
   "metadata": {},
   "outputs": [],
   "source": [
    "n_on = 100\n",
    "n_off = 20\n",
    "alpha = 1"
   ]
  },
  {
   "cell_type": "markdown",
   "metadata": {},
   "source": [
    "## Counts Statistic Case\n",
    "\n",
    "We first start with counts statistics case:"
   ]
  },
  {
   "cell_type": "code",
   "execution_count": 15,
   "metadata": {},
   "outputs": [],
   "source": [
    "wstat = WStatCountsStatistic(\n",
    "    n_on=n_on, n_off=n_off, alpha=alpha\n",
    ")"
   ]
  },
  {
   "cell_type": "code",
   "execution_count": 16,
   "metadata": {},
   "outputs": [
    {
     "name": "stdout",
     "output_type": "stream",
     "text": [
      "Counts  : 100\n",
      "Bkg.    : 20\n",
      "Sqrt(TS): 7.63\n",
      "Excess  : 80.00\n"
     ]
    }
   ],
   "source": [
    "print(f\"Counts  : {wstat.n_on}\")\n",
    "print(f\"Bkg.    : {wstat.n_bkg}\")\n",
    "print(f\"Sqrt(TS): {wstat.sqrt_ts:.2f}\")\n",
    "print(f\"Excess  : {wstat.n_sig:.2f}\")"
   ]
  },
  {
   "cell_type": "markdown",
   "metadata": {},
   "source": [
    "Excess and background add up to the total counts in this case. However, and this is important to keep in mind, the excess is defined as the **excess of counts above the background in the test hypothesis case**. So strictly speaking it is only valid once one adopts the test hypothesis. "
   ]
  },
  {
   "cell_type": "markdown",
   "metadata": {},
   "source": [
    "## On-Off Dataset Case\n",
    "\n",
    "No we repeat the same scenario with the dataset case:"
   ]
  },
  {
   "cell_type": "code",
   "execution_count": 17,
   "metadata": {},
   "outputs": [],
   "source": [
    "axis = MapAxis.from_energy_edges([1, 10] * u.TeV)\n",
    "geom = RegionGeom.create(region=None, axes=[axis])\n",
    "d = SpectrumDatasetOnOff.create(geom=geom)\n",
    "\n",
    "d.counts += 100\n",
    "d.counts_off += 20\n",
    "d.acceptance += 1\n",
    "d.acceptance_off += 1\n",
    "d.mask.data += True\n",
    "d.exposure += 1e10 * u.m ** 2 * u.s"
   ]
  },
  {
   "cell_type": "markdown",
   "metadata": {},
   "source": [
    "### Current definition"
   ]
  },
  {
   "cell_type": "code",
   "execution_count": 18,
   "metadata": {},
   "outputs": [],
   "source": [
    "# The amplitude chosen such that npred = counts\n",
    "pwl = PowerLawSpectralModel(amplitude=8/9 * u.Unit(\"1e-12 cm-2 s-1 TeV-1\"))\n",
    "d.models = SkyModel(spectral_model=pwl, name=\"test-source\")\n",
    "\n",
    "stat = d.stat_sum()\n",
    "npred = d.npred()\n",
    "\n",
    "d.models[\"test-source\"].spectral_model.amplitude.value = 0\n",
    "\n",
    "stat_null = d.stat_sum()\n",
    "npred_null = d.npred()\n",
    "\n",
    "sqrt_ts = float(np.sqrt(stat_null - stat))\n",
    "npred_excess = float((npred - npred_null).data)"
   ]
  },
  {
   "cell_type": "code",
   "execution_count": 19,
   "metadata": {},
   "outputs": [
    {
     "name": "stdout",
     "output_type": "stream",
     "text": [
      "Counts  : 100\n",
      "Bkg.    : 20\n",
      "Sqrt(TS): 7.63\n",
      "Excess  : 40.00\n"
     ]
    }
   ],
   "source": [
    "print(f\"Counts  : {int(d.counts.data)}\")\n",
    "print(f\"Bkg.    : {int(d.background.data)}\")\n",
    "print(f\"Sqrt(TS): {sqrt_ts:.2f}\")\n",
    "print(f\"Excess  : {npred_excess:.2f}\")"
   ]
  },
  {
   "cell_type": "markdown",
   "metadata": {},
   "source": [
    "This case shows the same signficance but a different excess definition. In this case the **excess is defined as the difference in predicted counts between the test hypothesis and the null hypothesis**. Which is different from the definiton above. In the case of `wstat` the background is reoptimized for the null hypothesis and the background level is different for the test and null hypothesis case. This results in the different number for the excess. From this we can conclude a modified consistent definition."
   ]
  },
  {
   "cell_type": "markdown",
   "metadata": {},
   "source": [
    "### Modified consistent definiton:"
   ]
  },
  {
   "cell_type": "code",
   "execution_count": 20,
   "metadata": {},
   "outputs": [],
   "source": [
    "# The amplitude chosen such that npred = counts\n",
    "pwl = PowerLawSpectralModel(amplitude=8/9 * u.Unit(\"1e-12 cm-2 s-1 TeV-1\"))\n",
    "d.models = SkyModel(spectral_model=pwl, name=\"test-source\")\n",
    "\n",
    "stat = d.stat_sum()\n",
    "npred = d.npred()\n",
    "\n",
    "# one subtracts the counts from the test source in the test hypothesis case\n",
    "npred_null = npred - d.npred_signal(\"test-source\")\n",
    "\n",
    "d.models[\"test-source\"].spectral_model.amplitude.value = 0\n",
    "\n",
    "stat_null = d.stat_sum()\n",
    "\n",
    "sqrt_ts = float(np.sqrt(stat_null - stat))\n",
    "npred_excess = float((npred - npred_null).data)"
   ]
  },
  {
   "cell_type": "code",
   "execution_count": 21,
   "metadata": {},
   "outputs": [
    {
     "name": "stdout",
     "output_type": "stream",
     "text": [
      "Counts  : 100\n",
      "Bkg.    : 20\n",
      "Sqrt(TS): 7.63\n",
      "Excess  : 80.00\n"
     ]
    }
   ],
   "source": [
    "print(f\"Counts  : {int(d.counts.data)}\")\n",
    "print(f\"Bkg.    : {int(d.background.data)}\")\n",
    "print(f\"Sqrt(TS): {sqrt_ts:.2f}\")\n",
    "print(f\"Excess  : {npred_excess:.2f}\")"
   ]
  },
  {
   "cell_type": "markdown",
   "metadata": {},
   "source": [
    "However this means that the current quantity we store `npred_null` (total predicted counts in the null hypothesis case) is not relevant in the excess definiton. The question which how we denote the quantity `npred - npred_source` as in the modified consistent definiton."
   ]
  },
  {
   "cell_type": "code",
   "execution_count": null,
   "metadata": {},
   "outputs": [],
   "source": []
  }
 ],
 "metadata": {
  "kernelspec": {
   "display_name": "Python 3 (ipykernel)",
   "language": "python",
   "name": "python3"
  },
  "language_info": {
   "codemirror_mode": {
    "name": "ipython",
    "version": 3
   },
   "file_extension": ".py",
   "mimetype": "text/x-python",
   "name": "python",
   "nbconvert_exporter": "python",
   "pygments_lexer": "ipython3",
   "version": "3.9.0"
  }
 },
 "nbformat": 4,
 "nbformat_minor": 4
}
