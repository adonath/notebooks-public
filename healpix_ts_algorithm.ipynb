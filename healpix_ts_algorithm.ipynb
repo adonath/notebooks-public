{
 "cells": [
  {
   "cell_type": "code",
   "execution_count": 1,
   "metadata": {},
   "outputs": [],
   "source": [
    "%matplotlib inline"
   ]
  },
  {
   "cell_type": "code",
   "execution_count": 2,
   "metadata": {},
   "outputs": [],
   "source": [
    "from gammapy.maps import HpxMap, MapAxis\n",
    "import numpy as np\n",
    "from astropy.coordinates import SkyCoord\n",
    "from astropy import units as u\n",
    "import matplotlib.pyplot as plt\n",
    "from scipy.optimize import minimize\n",
    "from gammapy.stats import cash"
   ]
  },
  {
   "cell_type": "code",
   "execution_count": 3,
   "metadata": {},
   "outputs": [],
   "source": [
    "axis = MapAxis.from_nodes([0, 1, 2, 3], name='nhit')"
   ]
  },
  {
   "cell_type": "code",
   "execution_count": 4,
   "metadata": {},
   "outputs": [],
   "source": [
    "counts = HpxMap.create(axes=[axis], nside=256, nest=False)\n",
    "counts.data += 10\n",
    "counts.data = np.random.poisson(counts.data)\n",
    "\n",
    "background = HpxMap.create(axes=[axis], nside=256)\n",
    "background.data += 5\n",
    "\n",
    "exposure = HpxMap.create(axes=[axis], nside=256)\n",
    "exposure.data += 0.0001"
   ]
  },
  {
   "cell_type": "code",
   "execution_count": 5,
   "metadata": {},
   "outputs": [],
   "source": [
    "def f(f, counts, background, exposure):\n",
    "    npred = background + f * exposure\n",
    "    return cash(counts, npred).sum()\n",
    "\n",
    "def extract_circular_region(hpx_map, center, radius, func=np.sum):\n",
    "    coords = hpx_map.geom.to_image().get_coord()\n",
    "    selection = coords.skycoord.separation(center) < radius\n",
    "    return func(hpx_map.data[:, selection], axis=1)    "
   ]
  },
  {
   "cell_type": "code",
   "execution_count": 6,
   "metadata": {},
   "outputs": [],
   "source": [
    "center = SkyCoord(\"0 deg\", \"0 deg\")\n",
    "radius = 2 * u.deg\n",
    "\n",
    "counts_region = extract_circular_region(counts, center, radius)\n",
    "background_region = extract_circular_region(background, center, radius)\n",
    "exposure_region = extract_circular_region(exposure, center, radius, func=np.mean)"
   ]
  },
  {
   "cell_type": "code",
   "execution_count": 7,
   "metadata": {},
   "outputs": [
    {
     "name": "stdout",
     "output_type": "stream",
     "text": [
      "CPU times: user 754 µs, sys: 484 µs, total: 1.24 ms\n",
      "Wall time: 784 µs\n"
     ]
    },
    {
     "data": {
      "text/plain": [
       "      fun: -133209.55870364944\n",
       " hess_inv: array([[1]])\n",
       "      jac: array([0.])\n",
       "  message: 'Optimization terminated successfully.'\n",
       "     nfev: 6\n",
       "      nit: 1\n",
       "     njev: 2\n",
       "   status: 0\n",
       "  success: True\n",
       "        x: array([5.00195312])"
      ]
     },
     "execution_count": 7,
     "metadata": {},
     "output_type": "execute_result"
    }
   ],
   "source": [
    "%%time\n",
    "minimize(fun=f, x0=5, args=(counts_region, background_region, exposure_region))"
   ]
  },
  {
   "cell_type": "code",
   "execution_count": null,
   "metadata": {},
   "outputs": [],
   "source": []
  }
 ],
 "metadata": {
  "kernelspec": {
   "display_name": "Python 3",
   "language": "python",
   "name": "python3"
  },
  "language_info": {
   "codemirror_mode": {
    "name": "ipython",
    "version": 3
   },
   "file_extension": ".py",
   "mimetype": "text/x-python",
   "name": "python",
   "nbconvert_exporter": "python",
   "pygments_lexer": "ipython3",
   "version": "3.8.6"
  }
 },
 "nbformat": 4,
 "nbformat_minor": 2
}
