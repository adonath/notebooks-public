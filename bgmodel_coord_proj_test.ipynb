{
 "cells": [
  {
   "cell_type": "code",
   "execution_count": 225,
   "metadata": {},
   "outputs": [],
   "source": [
    "import numpy as np\n",
    "from astropy.coordinates import SkyCoord, SkyOffsetFrame\n",
    "import astropy.units as u\n",
    "from astropy.io import fits\n",
    "from gammapy.cube import make_map_background_irf\n",
    "from gammapy.irf import Background3D\n",
    "from gammapy.maps import WcsGeom, MapAxis, Map"
   ]
  },
  {
   "cell_type": "code",
   "execution_count": 162,
   "metadata": {},
   "outputs": [
    {
     "name": "stdout",
     "output_type": "stream",
     "text": [
      "Filename: ../scripts/dummy_bgmodel.fits.gz\n",
      "No.    Name      Ver    Type      Cards   Dimensions   Format\n",
      "  0  PRIMARY       1 PrimaryHDU       4   ()      \n",
      "  1                1 BinTableHDU     31   1R x 7C   [50D, 50D, 50D, 50D, 20D, 20D, 50000D]   \n"
     ]
    }
   ],
   "source": [
    "f = fits.open('../scripts/dummy_bgmodel.fits.gz')\n",
    "f.info()"
   ]
  },
  {
   "cell_type": "code",
   "execution_count": 163,
   "metadata": {},
   "outputs": [],
   "source": [
    "bkg=Background3D.from_hdulist(f, '')"
   ]
  },
  {
   "cell_type": "code",
   "execution_count": 217,
   "metadata": {},
   "outputs": [],
   "source": [
    "ra_obj = 228.\n",
    "dec_obj = -60."
   ]
  },
  {
   "cell_type": "code",
   "execution_count": 218,
   "metadata": {},
   "outputs": [],
   "source": [
    "pointing = SkyCoord(228., -60., unit='deg', frame='icrs')"
   ]
  },
  {
   "cell_type": "code",
   "execution_count": 219,
   "metadata": {},
   "outputs": [],
   "source": [
    "eaxis = MapAxis.from_edges(np.logspace(-1, 2, 21), unit='TeV', name='energy', interp='log')\n",
    "\n",
    "geom = WcsGeom.create(\n",
    "    skydir=(ra_obj, dec_obj),\n",
    "    binsz=0.1,\n",
    "    width=(5, 5),\n",
    "    coordsys='CEL',\n",
    "    proj='CAR',\n",
    "    axes=[eaxis]\n",
    ")\n",
    "\n",
    "geom_2d = WcsGeom.create(\n",
    "    skydir=(ra_obj, dec_obj),\n",
    "    binsz=0.1,\n",
    "    width=(5, 5),\n",
    "    coordsys='CEL',\n",
    "    proj='CAR'\n",
    ")"
   ]
  },
  {
   "cell_type": "code",
   "execution_count": 220,
   "metadata": {},
   "outputs": [],
   "source": [
    "bgmap = make_map_background_irf(pointing, 50.*3600*u.s, bkg, geom)"
   ]
  },
  {
   "cell_type": "code",
   "execution_count": 221,
   "metadata": {},
   "outputs": [
    {
     "data": {
      "image/png": "[encoded data removed]",
      "text/plain": [
       "<Figure size 640x480 with 2 Axes>"
      ]
     },
     "metadata": {},
     "output_type": "display_data"
    }
   ],
   "source": [
    "bgmap.sum_over_axes().plot(add_cbar=True);"
   ]
  },
  {
   "cell_type": "code",
   "execution_count": 222,
   "metadata": {},
   "outputs": [
    {
     "data": {
      "text/plain": [
       "0.14808252379254228"
      ]
     },
     "execution_count": 222,
     "metadata": {},
     "output_type": "execute_result"
    }
   ],
   "source": [
    "rmax = bgmap.sum_over_axes().data[:,0].max()\n",
    "rmin = bgmap.sum_over_axes().data[:,-1].min()\n",
    "(rmax-rmin)/rmax"
   ]
  },
  {
   "cell_type": "code",
   "execution_count": 253,
   "metadata": {},
   "outputs": [
    {
     "data": {
      "text/plain": [
       "0.14808252379254228"
      ]
     },
     "execution_count": 253,
     "metadata": {},
     "output_type": "execute_result"
    }
   ],
   "source": [
    "sa = geom.solid_angle()[0]\n",
    "amax = sa[:,0].max()\n",
    "amin = sa[:,-1].min()\n",
    "(rmax-rmin)/rmax"
   ]
  },
  {
   "cell_type": "code",
   "execution_count": 261,
   "metadata": {},
   "outputs": [
    {
     "data": {
      "text/plain": [
       "array([[3.27109602e-06, 3.26288296e-06, 3.25459153e-06, ...,\n",
       "        2.80927009e-06, 2.79801058e-06, 2.78670386e-06],\n",
       "       [3.27066741e-06, 3.26247416e-06, 3.25420308e-06, ...,\n",
       "        2.81028627e-06, 2.79906646e-06, 2.78779968e-06],\n",
       "       [3.27023258e-06, 3.26205907e-06, 3.25380830e-06, ...,\n",
       "        2.81128828e-06, 2.80010790e-06, 2.78888081e-06],\n",
       "       ...,\n",
       "       [3.24380148e-06, 3.23646460e-06, 3.22906996e-06, ...,\n",
       "        2.84248982e-06, 2.83285942e-06, 2.82319152e-06],\n",
       "       [3.24305367e-06, 3.23573429e-06, 3.22835751e-06, ...,\n",
       "        2.84288929e-06, 2.83328913e-06, 2.82365163e-06],\n",
       "       [3.24229858e-06, 3.23499667e-06, 3.22763769e-06, ...,\n",
       "        2.84327654e-06, 2.83370645e-06, 2.82409919e-06]])"
      ]
     },
     "execution_count": 261,
     "metadata": {},
     "output_type": "execute_result"
    }
   ],
   "source": [
    "sa.value"
   ]
  },
  {
   "cell_type": "code",
   "execution_count": null,
   "metadata": {},
   "outputs": [],
   "source": []
  }
 ],
 "metadata": {
  "kernelspec": {
   "display_name": "Python 3",
   "language": "python",
   "name": "python3"
  },
  "language_info": {
   "codemirror_mode": {
    "name": "ipython",
    "version": 3
   },
   "file_extension": ".py",
   "mimetype": "text/x-python",
   "name": "python",
   "nbconvert_exporter": "python",
   "pygments_lexer": "ipython3",
   "version": "3.6.8"
  }
 },
 "nbformat": 4,
 "nbformat_minor": 2
}
