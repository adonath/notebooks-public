{
 "cells": [
  {
   "cell_type": "markdown",
   "metadata": {},
   "source": [
    "# Region based \"1D\" analysis using MapDataset\n",
    " \n",
    "This notebook outlines the use of the `MapDataset` for 1D spectral analysis as well. This becomes possible by relying on the `RegionGeom` for the analysis.. It shows that the results and performance are equivalent between the current and new approach. The advantages are:\n",
    "- Reduced code duplication\n",
    "- Containment correction for arbitrary region shapes and spatial models\n",
    "- Correction of \"contamination\" by other sources\n",
    "- 100% API uniformity between 1D and 3D analysis\n",
    "- Keeping PSF meta information on the spectrum dataset\n"
   ]
  },
  {
   "cell_type": "code",
   "execution_count": 1,
   "metadata": {},
   "outputs": [],
   "source": [
    "import numpy as np\n",
    "from gammapy.data import DataStore\n",
    "from gammapy.datasets import SpectrumDataset, MapDataset, Datasets\n",
    "from gammapy.makers import SpectrumDatasetMaker, MapDatasetMaker\n",
    "from gammapy.maps import RegionGeom, MapAxis\n",
    "from gammapy.modeling.models import SkyModel, PowerLawSpectralModel, PointSpatialModel, GaussianSpatialModel\n",
    "from gammapy.modeling import Fit\n",
    "from astropy import units as u\n",
    "\n",
    "import matplotlib.pyplot as plt"
   ]
  },
  {
   "cell_type": "code",
   "execution_count": 2,
   "metadata": {},
   "outputs": [],
   "source": [
    "datastore = DataStore.from_dir(\"$GAMMAPY_DATA/hess-dl3-dr1/\")\n",
    "obs_ids = [23523, 23526, 23559, 23592]\n",
    "observations = datastore.get_observations(obs_ids)"
   ]
  },
  {
   "cell_type": "code",
   "execution_count": 3,
   "metadata": {},
   "outputs": [],
   "source": [
    "energy_axis = MapAxis.from_energy_bounds(0.1, 40, 40, unit=\"TeV\", name=\"energy\")\n",
    "energy_axis_true = MapAxis.from_energy_bounds(\n",
    "    0.05, 100, 10, unit=\"TeV\", name=\"energy_true\", per_decade=True\n",
    ")\n",
    "\n",
    "geom = RegionGeom.create(\"icrs;circle(83.63, 22.01, 0.11)\", axes=[energy_axis])"
   ]
  },
  {
   "cell_type": "code",
   "execution_count": 4,
   "metadata": {},
   "outputs": [],
   "source": [
    "reference = MapDataset.create(\n",
    "    geom=geom, energy_axis_true=energy_axis_true\n",
    ")\n",
    "reference_spec = SpectrumDataset.create(\n",
    "    geom=geom, energy_axis_true=energy_axis_true\n",
    ")"
   ]
  },
  {
   "cell_type": "code",
   "execution_count": 5,
   "metadata": {},
   "outputs": [],
   "source": [
    "maker = MapDatasetMaker()\n",
    "maker_spec = SpectrumDatasetMaker(containment_correction=True)"
   ]
  },
  {
   "cell_type": "code",
   "execution_count": 6,
   "metadata": {},
   "outputs": [
    {
     "name": "stdout",
     "output_type": "stream",
     "text": [
      "CPU times: user 1.44 s, sys: 56.7 ms, total: 1.5 s\n",
      "Wall time: 1.61 s\n"
     ]
    }
   ],
   "source": [
    "%%time\n",
    "\n",
    "# runtime is a ~10-20% longer as a `PSFMap` is computed as well\n",
    "datasets = Datasets()\n",
    "\n",
    "for obs in observations:\n",
    "    dataset = maker.run(reference.copy(), obs)\n",
    "    datasets.append(dataset)"
   ]
  },
  {
   "cell_type": "code",
   "execution_count": 7,
   "metadata": {},
   "outputs": [
    {
     "name": "stdout",
     "output_type": "stream",
     "text": [
      "CPU times: user 1.2 s, sys: 34.5 ms, total: 1.24 s\n",
      "Wall time: 1.27 s\n"
     ]
    }
   ],
   "source": [
    "%%time\n",
    "datasets_spec = Datasets()\n",
    "\n",
    "for obs in observations:\n",
    "    dataset_spec = maker_spec.run(reference_spec.copy(), obs)\n",
    "    datasets_spec.append(dataset_spec)"
   ]
  },
  {
   "cell_type": "code",
   "execution_count": 8,
   "metadata": {},
   "outputs": [],
   "source": [
    "spectral_model = PowerLawSpectralModel(\n",
    "    index=2, amplitude=2e-11 * u.Unit(\"cm-2 s-1 TeV-1\"), reference=1 * u.TeV\n",
    ")\n",
    "\n",
    "# for the containment correction in the MapDataset it is now needed to define a frozen spatial model\n",
    "spatial_model = PointSpatialModel(lon_0=\"83.63 deg\", lat_0=\"22.01 deg\")\n",
    "spatial_model.freeze()\n",
    "\n",
    "model_ref = SkyModel(\n",
    "    spectral_model=spectral_model,\n",
    "    spatial_model=spatial_model,\n",
    "    name=\"crab\")"
   ]
  },
  {
   "cell_type": "code",
   "execution_count": 9,
   "metadata": {},
   "outputs": [],
   "source": [
    "model = model_ref.copy(\"crab\")\n",
    "datasets.models = [model]"
   ]
  },
  {
   "cell_type": "code",
   "execution_count": 10,
   "metadata": {},
   "outputs": [],
   "source": [
    "fit = Fit(datasets, store_trace=True)"
   ]
  },
  {
   "cell_type": "code",
   "execution_count": 11,
   "metadata": {},
   "outputs": [
    {
     "name": "stdout",
     "output_type": "stream",
     "text": [
      "CPU times: user 427 ms, sys: 7.41 ms, total: 434 ms\n",
      "Wall time: 438 ms\n"
     ]
    }
   ],
   "source": [
    "%%time\n",
    "result = fit.run()"
   ]
  },
  {
   "cell_type": "code",
   "execution_count": 12,
   "metadata": {},
   "outputs": [
    {
     "name": "stdout",
     "output_type": "stream",
     "text": [
      "OptimizeResult\n",
      "\n",
      "\tbackend    : minuit\n",
      "\tmethod     : minuit\n",
      "\tsuccess    : True\n",
      "\tmessage    : Optimization terminated successfully.\n",
      "\tnfev       : 35\n",
      "\ttotal stat : -1858.41\n",
      "\n"
     ]
    }
   ],
   "source": [
    "print(result)"
   ]
  },
  {
   "cell_type": "code",
   "execution_count": 13,
   "metadata": {},
   "outputs": [
    {
     "name": "stdout",
     "output_type": "stream",
     "text": [
      "SkyModel\n",
      "\n",
      "  Name                      : crab\n",
      "  Datasets names            : None\n",
      "  Spectral model type       : PowerLawSpectralModel\n",
      "  Spatial  model type       : PointSpatialModel\n",
      "  Temporal model type       : \n",
      "  Parameters:\n",
      "    index                   :   2.738              \n",
      "    amplitude               :   4.64e-11  1 / (cm2 s TeV)\n",
      "    reference    (frozen)   :   1.000  TeV         \n",
      "    lon_0        (frozen)   :  83.630  deg         \n",
      "    lat_0        (frozen)   :  22.010  deg         \n",
      "\n",
      "\n"
     ]
    }
   ],
   "source": [
    "print(model)"
   ]
  },
  {
   "cell_type": "code",
   "execution_count": 14,
   "metadata": {},
   "outputs": [],
   "source": [
    "model_spec = model_ref.copy(name=\"crab\")\n",
    "model_spec.spatial_model = None\n",
    "datasets_spec.models = [model_spec]\n",
    "fit_spec = Fit(datasets_spec, store_trace=True)"
   ]
  },
  {
   "cell_type": "code",
   "execution_count": 15,
   "metadata": {},
   "outputs": [
    {
     "name": "stdout",
     "output_type": "stream",
     "text": [
      "CPU times: user 369 ms, sys: 8.01 ms, total: 377 ms\n",
      "Wall time: 397 ms\n"
     ]
    }
   ],
   "source": [
    "%%time\n",
    "result_spec = fit_spec.run()"
   ]
  },
  {
   "cell_type": "code",
   "execution_count": 16,
   "metadata": {},
   "outputs": [
    {
     "name": "stdout",
     "output_type": "stream",
     "text": [
      "OptimizeResult\n",
      "\n",
      "\tbackend    : minuit\n",
      "\tmethod     : minuit\n",
      "\tsuccess    : True\n",
      "\tmessage    : Optimization terminated successfully.\n",
      "\tnfev       : 35\n",
      "\ttotal stat : -1858.47\n",
      "\n"
     ]
    }
   ],
   "source": [
    "print(result_spec)"
   ]
  },
  {
   "cell_type": "code",
   "execution_count": 17,
   "metadata": {},
   "outputs": [
    {
     "data": {
      "text/plain": [
       "<AxesSubplot:xlabel='Energy [TeV]', ylabel='Flux [1 / (cm2 s TeV)]'>"
      ]
     },
     "execution_count": 17,
     "metadata": {},
     "output_type": "execute_result"
    },
    {
     "data": {
      "image/png": "[encoded data removed]",
      "text/plain": [
       "<Figure size 432x288 with 1 Axes>"
      ]
     },
     "metadata": {
      "needs_background": "light"
     },
     "output_type": "display_data"
    }
   ],
   "source": [
    "model.spectral_model.plot(energy_range=[1, 10] * u.TeV)\n",
    "model_spec.spectral_model.plot(energy_range=[1, 10] * u.TeV)"
   ]
  },
  {
   "cell_type": "code",
   "execution_count": 18,
   "metadata": {},
   "outputs": [
    {
     "name": "stdout",
     "output_type": "stream",
     "text": [
      "SkyModel\n",
      "\n",
      "  Name                      : crab\n",
      "  Datasets names            : None\n",
      "  Spectral model type       : PowerLawSpectralModel\n",
      "  Spatial  model type       : PointSpatialModel\n",
      "  Temporal model type       : \n",
      "  Parameters:\n",
      "    index                   :   2.738              \n",
      "    amplitude               :   4.64e-11  1 / (cm2 s TeV)\n",
      "    reference    (frozen)   :   1.000  TeV         \n",
      "    lon_0        (frozen)   :  83.630  deg         \n",
      "    lat_0        (frozen)   :  22.010  deg         \n",
      "\n",
      "\n"
     ]
    }
   ],
   "source": [
    "print(model)"
   ]
  },
  {
   "cell_type": "code",
   "execution_count": 19,
   "metadata": {},
   "outputs": [
    {
     "name": "stdout",
     "output_type": "stream",
     "text": [
      "SkyModel\n",
      "\n",
      "  Name                      : crab\n",
      "  Datasets names            : None\n",
      "  Spectral model type       : PowerLawSpectralModel\n",
      "  Spatial  model type       : \n",
      "  Temporal model type       : \n",
      "  Parameters:\n",
      "    index                   :   2.740              \n",
      "    amplitude               :   4.63e-11  1 / (cm2 s TeV)\n",
      "    reference    (frozen)   :   1.000  TeV         \n",
      "\n",
      "\n"
     ]
    }
   ],
   "source": [
    "print(model_spec)"
   ]
  },
  {
   "cell_type": "markdown",
   "metadata": {},
   "source": [
    "## Mutiple models 1D vs 3D\n",
    "\n",
    "This section compares the predicted counts in agiven region from a fill 3D model and a 1D model. One finds that the predicted counts agree, als when mutiple model components are defined."
   ]
  },
  {
   "cell_type": "code",
   "execution_count": 20,
   "metadata": {},
   "outputs": [],
   "source": [
    "dataset = MapDataset.read(\"$GAMMAPY_DATA/cta-1dc-gc/cta-1dc-gc.fits.gz\")"
   ]
  },
  {
   "cell_type": "code",
   "execution_count": 21,
   "metadata": {},
   "outputs": [],
   "source": [
    "pwl = PowerLawSpectralModel()\n",
    "point = PointSpatialModel(lon_0=\"0 deg\", lat_0=\"0 deg\", frame=\"galactic\")\n",
    "model_1 = SkyModel(pwl, point, name=\"model-1\")\n",
    "\n",
    "pwl = PowerLawSpectralModel(amplitude=\"1e-11 TeV-1 cm-2 s-1\")\n",
    "gauss = GaussianSpatialModel(lon_0=\"0.3 deg\", lat_0=\"0.3 deg\", sigma=\"0.5 deg\", frame=\"galactic\")\n",
    "model_2 = SkyModel(pwl, gauss, name=\"model-2\")"
   ]
  },
  {
   "cell_type": "code",
   "execution_count": 22,
   "metadata": {},
   "outputs": [],
   "source": [
    "dataset.models = [model_1, model_2]"
   ]
  },
  {
   "cell_type": "code",
   "execution_count": 23,
   "metadata": {},
   "outputs": [],
   "source": [
    "region = RegionGeom.create(\"galactic;circle(0, 0, 0.4)\").region"
   ]
  },
  {
   "cell_type": "code",
   "execution_count": 24,
   "metadata": {},
   "outputs": [
    {
     "name": "stdout",
     "output_type": "stream",
     "text": [
      "CPU times: user 1.6 s, sys: 333 ms, total: 1.94 s\n",
      "Wall time: 1.99 s\n"
     ]
    }
   ],
   "source": [
    "%%time\n",
    "npred_spec = dataset.npred().get_spectrum(region)"
   ]
  },
  {
   "cell_type": "code",
   "execution_count": 25,
   "metadata": {},
   "outputs": [],
   "source": [
    "dataset_spec = dataset.to_spectrum(region)\n",
    "dataset_spec.models = [model_1, model_2]"
   ]
  },
  {
   "cell_type": "code",
   "execution_count": 26,
   "metadata": {},
   "outputs": [
    {
     "name": "stderr",
     "output_type": "stream",
     "text": [
      "Position <SkyCoord (Galactic): (l, b) in deg\n",
      "    (0.3, 0.3)> is outside valid IRF map range, using nearest IRF defined within\n"
     ]
    },
    {
     "name": "stdout",
     "output_type": "stream",
     "text": [
      "CPU times: user 709 ms, sys: 282 ms, total: 991 ms\n",
      "Wall time: 998 ms\n"
     ]
    }
   ],
   "source": [
    "%%time\n",
    "npred_spec_1 = dataset_spec.npred()"
   ]
  },
  {
   "cell_type": "code",
   "execution_count": 27,
   "metadata": {},
   "outputs": [
    {
     "data": {
      "text/plain": [
       "<AxesSubplot:xlabel='Energy [TeV]', ylabel='$\\\\mathrm{}$'>"
      ]
     },
     "execution_count": 27,
     "metadata": {},
     "output_type": "execute_result"
    },
    {
     "data": {
      "image/png": "[encoded data removed]",
      "text/plain": [
       "<Figure size 432x288 with 1 Axes>"
      ]
     },
     "metadata": {
      "needs_background": "light"
     },
     "output_type": "display_data"
    }
   ],
   "source": [
    "npred_spec = dataset.npred().get_spectrum(region)\n",
    "npred_spec_1 = dataset_spec.npred()\n",
    "npred_spec.plot()\n",
    "npred_spec_1.plot()"
   ]
  },
  {
   "cell_type": "code",
   "execution_count": 49,
   "metadata": {},
   "outputs": [],
   "source": [
    "dataset = MapDataset.read(\"$GAMMAPY_DATA/cta-1dc-gc/cta-1dc-gc.fits.gz\")\n",
    "\n",
    "pwl = PowerLawSpectralModel()\n",
    "point = PointSpatialModel(lon_0=\"0 deg\", lat_0=\"0 deg\", frame=\"galactic\")\n",
    "model_1 = SkyModel(pwl, point, name=\"model-1\")\n",
    "\n",
    "pwl = PowerLawSpectralModel(amplitude=\"1e-11 TeV-1 cm-2 s-1\")\n",
    "gauss = GaussianSpatialModel(lon_0=\"0.3 deg\", lat_0=\"0.3 deg\", sigma=\"0.5 deg\", frame=\"galactic\")\n",
    "model_2 = SkyModel(pwl, gauss, name=\"model-2\")\n",
    "\n",
    "dataset.models = [model_1, model_2]\n",
    "\n",
    "npred = dataset.npred()\n",
    "\n",
    "new_axis = MapAxis.from_energy_edges([0.1, 0.3, 1, 3, 10] * u.TeV)\n",
    "npred_new = npred.resample_axis(axis=new_axis)\n",
    "\n",
    "dataset_new = dataset.resample_energy_axis(new_axis)\n",
    "npred_new_dataset = dataset_new.npred()\n",
    "\n",
    "npred_new_dataset.get_spectrum().plot(label=\"A\")\n",
    "npred_new.get_spectrum().plot(label=\"B\")\n",
    "plt.legend()"
   ]
  },
  {
   "cell_type": "code",
   "execution_count": null,
   "metadata": {},
   "outputs": [],
   "source": []
  },
  {
   "cell_type": "code",
   "execution_count": null,
   "metadata": {},
   "outputs": [],
   "source": []
  }
 ],
 "metadata": {
  "kernelspec": {
   "display_name": "Python 3",
   "language": "python",
   "name": "python3"
  },
  "language_info": {
   "codemirror_mode": {
    "name": "ipython",
    "version": 3
   },
   "file_extension": ".py",
   "mimetype": "text/x-python",
   "name": "python",
   "nbconvert_exporter": "python",
   "pygments_lexer": "ipython3",
   "version": "3.8.6"
  }
 },
 "nbformat": 4,
 "nbformat_minor": 4
}
