{
 "cells": [
  {
   "cell_type": "markdown",
   "metadata": {},
   "source": [
    "# Event Sampling for Gammapy\n",
    "\n",
    "\n",
    "## Introduction\n",
    "[Gammapy](https://gammapy.org/) is a Python package for gamma-ray astronomy. Based on the scientific Python stack ([Numpy](http://www.numpy.org/), [Scipy](https://www.scipy.org/) and [Astropy](http://www.astropy.org/)) it implements high level tools for gamma-ray data analysis, such as combined fitting of spectral and morphological models,\n",
    "joint-likelihood analyses, image bases analysis methods, timing analysis etc. It started ~5 years ago as a loose collection of analysis scripts needed for the HESS Galactic Plane Survey, but as now evolved into a serious analysis\n",
    "package, already used by >20 people. The main goal is to establish Gammapy as the future CTA science tools. \n",
    "\n",
    "\n",
    "## Gammapy Development\n",
    "The Gammapy project is not only open-source, but developed openly in a [github repository](https://github.com/gammapy/gammapy). The project documentation can be found on https://docs.gammapy.org/0.10/. There are 3 lead developers ([Christoph Deil](https://github.com/cdeil), [Regis Terrier](https://github.com/registerrier) and [me](https://github.com/adonath)) and ~10 people that have contributed regularly in the past and some are still contributing. Contributions are made by \"pull requests\", that are typically review by the lead developers.\n",
    "\n",
    "The timeline for Gammapy development is set by the CTA science tools selection process. We have defined as one of our major milestones a Gammapy 1.0 release for late 2019. To coordinate the required development for this we have written a [Gammapy Roadmap 2019](https://github.com/gammapy/gammapy/blob/b027fe3fef1ad325bb89368b57218bd8a5a4b644/docs/development/pigs/pig-005.rst) document. \n",
    "\n",
    "Large code contributions to Gammapy are outlined and planned in document called \"proposal for improving Gammapy\" (PIG).\n",
    "The current PIGs are listed [here](https://docs.gammapy.org/dev/development/pigs/index.html). A PIG outlines the reasoning for adding new functionality, makes a proposal what and how to implement and ideally breaks the work into a list of smaller code contributions (\"pull requests\") (see e.g. recent PIGs on [Datasest](https://github.com/gammapy/gammapy/pull/1986) and [Models](https://github.com/gammapy/gammapy/pull/1971)). It also defines the timeline of the \n",
    "pull requests in terms of inermediate milestones such as `v0.11`, `v0.12`, etc.\n",
    "\n",
    "The ideal outcome of this meeting would be a **draft for a PIG, that addresses event sampling in Gammapy**. The PIG would be improved in the coming weeks and once it's considered \"final\", the actual implementation would start. \n",
    "\n",
    "## Requirements\n",
    "For the purpose simulating gamma-ray data, event sampling is listed as one of the requirements for the CTA science tools. For the first CTA data challenge data has been simulated by [gammalib](http://gammalib.sourceforge.net/) / [ctools](http://cta.irap.omp.eu/ctools/). One goal for Gammapy could be to contribute simulated data to the next data challenge.\n",
    "This means simulating data at a scale of thousands of observations with hundred of thousands of events each.\n",
    "\n",
    "The main parameters to sample for the events are:\n",
    "\n",
    "- Reconstructed arrival direction in sky coordinates (`ra`, `dec`)\n",
    "- Reconstructed energy\n",
    "- Arrival time\n",
    "- Component ID (unique identifier for the model component)\n",
    "- (Event class) \n",
    "- (Event type)\n",
    "- (True direction)\n",
    "- (True energy)\n",
    "- (Arrival direction in camera coordinates, (`DETX`, `DETY`))\n",
    "\n",
    "The complexity of the source models is unclear. It might include energy-dependent morphologies, time dependent spectra, pulsar phases etc. If possible we should try to avoid restrictions on this by design.\n",
    "\n",
    "The implementation best relies on Numpy, Scipy, Astropy and Gammapy, but could be extended to using e.g. cython if performance becomes an issue (e.g. when loops over events are required). \n",
    "\n",
    "\n",
    "## Implementation Proposal\n",
    "Gammapy only implements \"binned analysis\", i.e. events are typically binned into 1D, 2D, or ND data structures https://docs.gammapy.org/dev/notebooks/intro_maps.html) and not processed as individual events in event lists.\n",
    "So an obvious approach to implementing the event sample is based on \"binned\" predicted numbers of counts. \n",
    "\n",
    "Some more ideas are outline here:\n",
    "\n",
    "* https://github.com/gammapy/gammapy/issues/761\n",
    "* https://github.com/gammapy/gammapy/issues/74\n",
    "\n",
    "\n",
    "Further references to look at:\n",
    "* http://cta.irap.omp.eu/ctools/users/reference_manual/ctobssim.html\n",
    "* Any other code?"
   ]
  },
  {
   "cell_type": "code",
   "execution_count": 1,
   "metadata": {},
   "outputs": [
    {
     "name": "stderr",
     "output_type": "stream",
     "text": [
      "WARNING: AstropyDeprecationWarning: astropy.extern.six will be removed in 4.0, use the six module directly if it is still needed [astropy.extern.six]\n"
     ]
    }
   ],
   "source": [
    "%matplotlib inline\n",
    "import numpy as np\n",
    "import matplotlib.pyplot as plt\n",
    "\n",
    "from astropy.coordinates import SkyCoord\n",
    "from astropy.table import Table\n",
    "\n",
    "from gammapy.maps import Map, MapAxis, MapCoord\n",
    "from gammapy.data import EventList\n",
    "from gammapy.cube import fill_map_counts\n",
    "from gammapy.utils.random import get_random_state"
   ]
  },
  {
   "cell_type": "markdown",
   "metadata": {},
   "source": [
    "### Example Event List from CTA 1DC\n",
    "\n",
    "For the first data challenge events were sampled by "
   ]
  },
  {
   "cell_type": "code",
   "execution_count": 2,
   "metadata": {},
   "outputs": [
    {
     "data": {
      "text/html": [
       "<i>Table length=106217</i>\n",
       "<table id=\"table139694101453232\" class=\"table-striped table-bordered table-condensed\">\n",
       "<thead><tr><th>EVENT_ID</th><th>TIME</th><th>RA</th><th>DEC</th><th>ENERGY</th><th>DETX</th><th>DETY</th><th>MC_ID</th></tr></thead>\n",
       "<thead><tr><th></th><th>s</th><th>deg</th><th>deg</th><th>TeV</th><th>deg</th><th>deg</th><th></th></tr></thead>\n",
       "<thead><tr><th>uint32</th><th>float64</th><th>float32</th><th>float32</th><th>float32</th><th>float32</th><th>float32</th><th>int32</th></tr></thead>\n",
       "<tr><td>1</td><td>664502403.0454683</td><td>-92.63541</td><td>-30.514854</td><td>0.03902182</td><td>-0.9077294</td><td>-0.2727693</td><td>2</td></tr>\n",
       "<tr><td>2</td><td>664502405.2579999</td><td>-92.64103</td><td>-28.262728</td><td>0.030796371</td><td>1.3443842</td><td>-0.2838398</td><td>2</td></tr>\n",
       "<tr><td>3</td><td>664502408.8205513</td><td>-93.20372</td><td>-28.599625</td><td>0.04009629</td><td>1.0049409</td><td>-0.7769775</td><td>2</td></tr>\n",
       "<tr><td>4</td><td>664502409.0143764</td><td>-94.03383</td><td>-29.269627</td><td>0.039580025</td><td>0.32684833</td><td>-1.496021</td><td>2</td></tr>\n",
       "<tr><td>5</td><td>664502414.8090746</td><td>-93.330505</td><td>-30.319725</td><td>0.03035851</td><td>-0.716062</td><td>-0.8733348</td><td>2</td></tr>\n",
       "<tr><td>6</td><td>664502415.5855484</td><td>-93.23232</td><td>-28.587324</td><td>0.034782063</td><td>1.0170497</td><td>-0.8021856</td><td>2</td></tr>\n",
       "<tr><td>7</td><td>664502416.0332305</td><td>-92.62048</td><td>-29.781712</td><td>0.04999659</td><td>-0.17455244</td><td>-0.26183704</td><td>2</td></tr>\n",
       "<tr><td>8</td><td>664502417.712146</td><td>-93.75603</td><td>-30.201115</td><td>0.041633684</td><td>-0.6013596</td><td>-1.242136</td><td>2</td></tr>\n",
       "<tr><td>9</td><td>664502419.5261248</td><td>-94.33253</td><td>-29.964685</td><td>0.040493418</td><td>-0.37238783</td><td>-1.7444801</td><td>2</td></tr>\n",
       "<tr><td>...</td><td>...</td><td>...</td><td>...</td><td>...</td><td>...</td><td>...</td><td>...</td></tr>\n",
       "<tr><td>106208</td><td>664504199.8663232</td><td>-94.66981</td><td>-30.770557</td><td>0.08071349</td><td>-1.1837791</td><td>-2.0200346</td><td>1</td></tr>\n",
       "<tr><td>106209</td><td>664504199.8737524</td><td>-92.56297</td><td>-29.534801</td><td>0.09855054</td><td>0.07247467</td><td>-0.21244664</td><td>1</td></tr>\n",
       "<tr><td>106210</td><td>664504199.8762689</td><td>-95.91761</td><td>-29.870405</td><td>0.74107295</td><td>-0.31146556</td><td>-3.12023</td><td>1</td></tr>\n",
       "<tr><td>106211</td><td>664504199.8870658</td><td>-92.75952</td><td>-28.651684</td><td>0.25559765</td><td>0.9550883</td><td>-0.386774</td><td>1</td></tr>\n",
       "<tr><td>106212</td><td>664504199.9285337</td><td>-94.80082</td><td>-28.978634</td><td>0.6445309</td><td>0.6057789</td><td>-2.1711502</td><td>1</td></tr>\n",
       "<tr><td>106213</td><td>664504199.9315486</td><td>-89.076965</td><td>-29.361399</td><td>0.101013534</td><td>0.2067051</td><td>2.8250456</td><td>1</td></tr>\n",
       "<tr><td>106214</td><td>664504199.9442778</td><td>-93.28163</td><td>-30.011133</td><td>0.030123588</td><td>-0.4071093</td><td>-0.83374184</td><td>1</td></tr>\n",
       "<tr><td>106215</td><td>664504199.9560002</td><td>-92.4204</td><td>-29.911001</td><td>0.086367</td><td>-0.30353945</td><td>-0.08807102</td><td>1</td></tr>\n",
       "<tr><td>106216</td><td>664504199.9636843</td><td>-93.404785</td><td>-28.791838</td><td>0.076767094</td><td>0.81124264</td><td>-0.95175004</td><td>1</td></tr>\n",
       "<tr><td>106217</td><td>664504199.9682832</td><td>-93.45982</td><td>-30.112665</td><td>0.037619844</td><td>-0.5100452</td><td>-0.987028</td><td>1</td></tr>\n",
       "</table>"
      ],
      "text/plain": [
       "<Table length=106217>\n",
       "EVENT_ID        TIME           RA     ...     DETX        DETY    MC_ID\n",
       "                 s            deg     ...     deg         deg          \n",
       " uint32       float64       float32   ...   float32     float32   int32\n",
       "-------- ----------------- ---------- ... ----------- ----------- -----\n",
       "       1 664502403.0454683  -92.63541 ...  -0.9077294  -0.2727693     2\n",
       "       2 664502405.2579999  -92.64103 ...   1.3443842  -0.2838398     2\n",
       "       3 664502408.8205513  -93.20372 ...   1.0049409  -0.7769775     2\n",
       "       4 664502409.0143764  -94.03383 ...  0.32684833   -1.496021     2\n",
       "       5 664502414.8090746 -93.330505 ...   -0.716062  -0.8733348     2\n",
       "       6 664502415.5855484  -93.23232 ...   1.0170497  -0.8021856     2\n",
       "       7 664502416.0332305  -92.62048 ... -0.17455244 -0.26183704     2\n",
       "       8  664502417.712146  -93.75603 ...  -0.6013596   -1.242136     2\n",
       "       9 664502419.5261248  -94.33253 ... -0.37238783  -1.7444801     2\n",
       "     ...               ...        ... ...         ...         ...   ...\n",
       "  106208 664504199.8663232  -94.66981 ...  -1.1837791  -2.0200346     1\n",
       "  106209 664504199.8737524  -92.56297 ...  0.07247467 -0.21244664     1\n",
       "  106210 664504199.8762689  -95.91761 ... -0.31146556    -3.12023     1\n",
       "  106211 664504199.8870658  -92.75952 ...   0.9550883   -0.386774     1\n",
       "  106212 664504199.9285337  -94.80082 ...   0.6057789  -2.1711502     1\n",
       "  106213 664504199.9315486 -89.076965 ...   0.2067051   2.8250456     1\n",
       "  106214 664504199.9442778  -93.28163 ...  -0.4071093 -0.83374184     1\n",
       "  106215 664504199.9560002   -92.4204 ... -0.30353945 -0.08807102     1\n",
       "  106216 664504199.9636843 -93.404785 ...  0.81124264 -0.95175004     1\n",
       "  106217 664504199.9682832  -93.45982 ...  -0.5100452   -0.987028     1"
      ]
     },
     "execution_count": 2,
     "metadata": {},
     "output_type": "execute_result"
    }
   ],
   "source": [
    "events = EventList.read(\"$GAMMAPY_DATA/cta-1dc/data/baseline/gps/gps_baseline_110380.fits\")\n",
    "events.table"
   ]
  },
  {
   "cell_type": "markdown",
   "metadata": {},
   "source": [
    "### Toy Event Sampler\n",
    "\n",
    "This is a super simple event sample that I've written, based on inverse CDF sampling (code adapted from https://stackoverflow.com/questions/21100716/fast-arbitrary-distribution-random-sampling/21101584#21101584), that illustrated the basic idea and might serve as a starting point."
   ]
  },
  {
   "cell_type": "code",
   "execution_count": 3,
   "metadata": {},
   "outputs": [],
   "source": [
    "class MapEventSampler(object):\n",
    "    \"\"\"\n",
    "    Draw samples from an npred map.\n",
    "    \n",
    "    Parameters\n",
    "    ----------\n",
    "    npred : `Map`\n",
    "        Predicted number of counts map, specifying the propability\n",
    "        density function.\n",
    "    random_state : int\n",
    "        Random state\n",
    "    interpolation : bool\n",
    "        Use interpolation\n",
    "    \"\"\"\n",
    "    def __init__(self, npred, random_state=0, interpolation=True):\n",
    "        self.npred = npred\n",
    "        self.interpolation = interpolation\n",
    "        self.random_state = get_random_state(random_state)\n",
    "\n",
    "        pdf = npred.data.ravel()    \n",
    "        self.sortindex = np.argsort(pdf, axis=None)\n",
    "\n",
    "        self.pdf = pdf[self.sortindex]\n",
    "        self.cdf = np.cumsum(self.pdf)    \n",
    "\n",
    "        \n",
    "    @property\n",
    "    def npred_total(self):\n",
    "        \"\"\"Total number of predicted events\"\"\"\n",
    "        return self.npred.data.sum()\n",
    "         \n",
    "    def sample_total_events(self):\n",
    "        \"\"\"Sample total number of events.\"\"\"\n",
    "        return self.random_state.poisson(self.npred_total)\n",
    "        \n",
    "    def _result_table(self, coords):\n",
    "        lon, lat, energy = coords\n",
    "        skycoord = SkyCoord(lon, lat, frame=\"galactic\", unit=\"deg\")\n",
    "        \n",
    "        table = Table()\n",
    "        table['EVENT_ID'] = np.arange(len(lon))\n",
    "        table['RA'] = skycoord.icrs.ra\n",
    "        table['DEC'] = skycoord.icrs.dec\n",
    "        table[\"ENERGY\"] = energy * self.npred.geom.get_axis_by_name(\"energy\").unit.to(\"TeV\")\n",
    "        return table\n",
    "    \n",
    "    def run(self):\n",
    "        \"\"\"Sample event list.\n",
    "        \n",
    "        Returns\n",
    "        -------\n",
    "        events : `EventList`\n",
    "            Sampled events.\n",
    "        \"\"\"\n",
    "        N = self.sample_total_events()\n",
    "        \n",
    "        #pick numbers which are uniformly random over the cumulative distribution function\n",
    "        choice = self.random_state.uniform(high=self.npred_total, size=N)\n",
    "        \n",
    "        #find the indices corresponding to this point on the CDF\n",
    "        index = np.searchsorted(self.cdf, choice)\n",
    "        index = self.sortindex[index]\n",
    "        \n",
    "        #map back to multi-dimensional indexing\n",
    "        index = np.unravel_index(index, self.npred.data.shape)\n",
    "        index = np.vstack(index)\n",
    "        \n",
    "        #is this a discrete or piecewise continuous distribution?\n",
    "        if self.interpolation:\n",
    "            index = index + self.random_state.uniform(low=-0.5, high=0.5, size=index.shape)\n",
    "        \n",
    "        coords = self.npred.geom.pix_to_coord(index[::-1])\n",
    "        table = self._result_table(coords)\n",
    "        return EventList(table)"
   ]
  },
  {
   "cell_type": "code",
   "execution_count": 4,
   "metadata": {},
   "outputs": [
    {
     "ename": "NameError",
     "evalue": "name 'background' is not defined",
     "output_type": "error",
     "traceback": [
      "\u001b[0;31m---------------------------------------------------------------------------\u001b[0m",
      "\u001b[0;31mNameError\u001b[0m                                 Traceback (most recent call last)",
      "\u001b[0;32m<ipython-input-4-06b1052e1289>\u001b[0m in \u001b[0;36m<module>\u001b[0;34m\u001b[0m\n\u001b[0;32m----> 1\u001b[0;31m \u001b[0msampler\u001b[0m \u001b[0;34m=\u001b[0m \u001b[0mMapEventSampler\u001b[0m\u001b[0;34m(\u001b[0m\u001b[0mbackground\u001b[0m\u001b[0;34m,\u001b[0m \u001b[0mrandom_state\u001b[0m\u001b[0;34m=\u001b[0m\u001b[0;36m0\u001b[0m\u001b[0;34m,\u001b[0m \u001b[0minterpolation\u001b[0m\u001b[0;34m=\u001b[0m\u001b[0;32mTrue\u001b[0m\u001b[0;34m)\u001b[0m\u001b[0;34m\u001b[0m\u001b[0m\n\u001b[0m",
      "\u001b[0;31mNameError\u001b[0m: name 'background' is not defined"
     ]
    }
   ],
   "source": [
    "sampler = MapEventSampler(background, random_state=0, interpolation=True)"
   ]
  },
  {
   "cell_type": "code",
   "execution_count": null,
   "metadata": {},
   "outputs": [],
   "source": [
    "events = sampler.run()"
   ]
  },
  {
   "cell_type": "code",
   "execution_count": null,
   "metadata": {},
   "outputs": [],
   "source": [
    "counts = Map.from_geom(background.geom)\n",
    "fill_map_counts(counts, events)"
   ]
  },
  {
   "cell_type": "code",
   "execution_count": null,
   "metadata": {},
   "outputs": [],
   "source": [
    "counts.sum_over_axes().smooth(\"0.1 deg\").plot();"
   ]
  },
  {
   "cell_type": "code",
   "execution_count": null,
   "metadata": {},
   "outputs": [],
   "source": []
  }
 ],
 "metadata": {
  "kernelspec": {
   "display_name": "Python 3",
   "language": "python",
   "name": "python3"
  },
  "language_info": {
   "codemirror_mode": {
    "name": "ipython",
    "version": 3
   },
   "file_extension": ".py",
   "mimetype": "text/x-python",
   "name": "python",
   "nbconvert_exporter": "python",
   "pygments_lexer": "ipython3",
   "version": "3.6.0"
  }
 },
 "nbformat": 4,
 "nbformat_minor": 2
}
