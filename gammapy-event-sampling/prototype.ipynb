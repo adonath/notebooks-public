{
 "cells": [
  {
   "cell_type": "markdown",
   "metadata": {},
   "source": [
    "# Gammapy Event Sampling Prototype\n",
    "\n",
    "Authors: Fabio Pintore and Axel Donath\n",
    "\n",
    "This notebook sketches a prototype for event sampling with Gammapy.\n",
    "\n",
    "\n",
    "Here is list of TODOs:\n",
    "\n",
    "- debug why the total number events changes when re-executing `MapEventSample.npred_total`\n",
    "- add missing docstrings and make them complete, examples of the dosctring format are in the Gammapy code base\n",
    "- add sampling of phi angle for PDF\n",
    "- compute the reconstructed positions of the events\n",
    "\n",
    "- add application of energy dispersion\n",
    "- compute reconstructed energy of the events\n",
    "\n"
   ]
  },
  {
   "cell_type": "code",
   "execution_count": 1,
   "metadata": {},
   "outputs": [],
   "source": [
    "%matplotlib inline\n",
    "import matplotlib.pyplot as plt\n",
    "import numpy as np"
   ]
  },
  {
   "cell_type": "code",
   "execution_count": 2,
   "metadata": {},
   "outputs": [
    {
     "name": "stderr",
     "output_type": "stream",
     "text": [
      "WARNING: AstropyDeprecationWarning: astropy.extern.six will be removed in 4.0, use the six module directly if it is still needed [astropy.extern.six]\n"
     ]
    }
   ],
   "source": [
    "from gammapy.utils.random import get_random_state\n",
    "from gammapy.maps import Map, MapAxis, WcsGeom\n",
    "from gammapy.cube import MapEvaluator\n",
    "\n",
    "from astropy import units as u\n",
    "from astropy.table import Table\n",
    "from astropy.coordinates import SkyCoord"
   ]
  },
  {
   "cell_type": "code",
   "execution_count": 3,
   "metadata": {},
   "outputs": [],
   "source": [
    "from gammapy.image.models import SkyGaussian\n",
    "from gammapy.spectrum.models import PowerLaw\n",
    "from gammapy.cube.models import SkyModel\n",
    "from gammapy.irf import PSF3D, EnergyDependentMultiGaussPSF"
   ]
  },
  {
   "cell_type": "code",
   "execution_count": 4,
   "metadata": {},
   "outputs": [],
   "source": [
    "from gammapy.cube import make_psf_map"
   ]
  },
  {
   "cell_type": "markdown",
   "metadata": {},
   "source": [
    "### Inverse CDF Sampler"
   ]
  },
  {
   "cell_type": "code",
   "execution_count": 5,
   "metadata": {},
   "outputs": [],
   "source": [
    "class InverseCDFSampler:\n",
    "    \"\"\"Inverse CDF sampler\n",
    "    \n",
    "    Parameters\n",
    "    ----------\n",
    "    pdf : ...\n",
    "    \n",
    "    \n",
    "    \"\"\"\n",
    "    def __init__(self, pdf, axis=None, random_state=0):\n",
    "        self.random_state = get_random_state(random_state) #determines a set of random numbers\n",
    "        self.axis = axis       \n",
    "        \n",
    "        if axis is not None:\n",
    "            self.cdf = np.cumsum(pdf, axis=self.axis)\n",
    "            self.cdf /= self.cdf[:, [-1]]\n",
    "        else:\n",
    "            self.pdf_shape = pdf.shape  #gives the shape of the PDF array\n",
    "\n",
    "            pdf = pdf.ravel() / pdf.sum()  #flattens the array along one axis\n",
    "            self.sortindex = np.argsort(pdf, axis=None) #sorting of the elements and giving the indexes\n",
    "\n",
    "            self.pdf = pdf[self.sortindex]  #sort the pdf array\n",
    "            self.cdf = np.cumsum(self.pdf)  #evaluate the cumulative sum of the PDF array\n",
    "        \n",
    "    def sample_axis(self):\n",
    "        \"\"\"Sample along agiven axis.\n",
    "        \"\"\"\n",
    "        choice = self.random_state.uniform(high=1, size=len(self.cdf))\n",
    "        \n",
    "        #find the indices corresponding to this point on the CDF\n",
    "        index = np.argmin(np.abs(choice.reshape(-1, 1) - self.cdf), axis=self.axis)\n",
    "        \n",
    "        return index + self.random_state.uniform(low=-0.5, high=0.5,\n",
    "                                                 size=len(self.cdf))\n",
    "    def sample(self, size):\n",
    "        \"\"\"Draw sample from the given PDF.\n",
    "        \n",
    "        Parameters\n",
    "        ----------\n",
    "        size : int\n",
    "            Number of samples to draw.\n",
    "            \n",
    "        Returns\n",
    "        -------\n",
    "        index : tuple of `~numpy.ndarray`\n",
    "            Coordinates of the drawn sample      \n",
    "        \"\"\"\n",
    "        #pick numbers which are uniformly random over the cumulative distribution function\n",
    "        choice = self.random_state.uniform(high=1, size=size)\n",
    "\n",
    "        #find the indices corresponding to this point on the CDF\n",
    "        index = np.searchsorted(self.cdf, choice)\n",
    "        index = self.sortindex[index]\n",
    "\n",
    "        # map back to multi-dimensional indexing\n",
    "        index = np.unravel_index(index, self.pdf_shape) #not clear...\n",
    "        index = np.vstack(index)\n",
    "\n",
    "        index = index + self.random_state.uniform(low=-0.5, high=0.5,\n",
    "                                      size=index.shape)\n",
    "        return index"
   ]
  },
  {
   "cell_type": "markdown",
   "metadata": {},
   "source": [
    " ### MapEventSampler"
   ]
  },
  {
   "cell_type": "code",
   "execution_count": 6,
   "metadata": {},
   "outputs": [],
   "source": [
    "class MapEventSampler:\n",
    "    \"\"\"Map event sampler\n",
    "    \n",
    "    Parameters\n",
    "    ----------\n",
    "    \n",
    "    npred_map : `~gammapy.maps.Map`\n",
    "        Predicted number of counts map.\n",
    "    ...\n",
    "    \n",
    "    \n",
    "    \"\"\"\n",
    "    def __init__(self, npred_map, psf_map=None, edisp_map=None, background_map=None,\n",
    "                 random_state=0):\n",
    "        self.random_state = get_random_state(random_state)\n",
    "        self.npred_map = npred_map\n",
    "        self.psf_map = psf_map\n",
    "        self.edisp_map = edisp_map\n",
    "        self.background_map = background_map\n",
    "\n",
    "    def npred_total(self):\n",
    "        return self.random_state.poisson(self.npred_map.data.sum())\n",
    "\n",
    "    def apply_edisp(self, events):\n",
    "        # apply energy dispersion to list of events\n",
    "        pdf = self.edisp_map.interp_by_coord({\"skycoord\": events.radec,\n",
    "        \"energy\": events.energy})\n",
    "\n",
    "        return events\n",
    "\n",
    "    def apply_psf(self, events):\n",
    "        # apply psf to list of events\n",
    "        rad = np.linspace(0, 1 * u.deg, 100)[np.newaxis, :]\n",
    "        pdf = self.psf_map.interp_by_coord({\"skycoord\": events.radec, \n",
    "        \"energy\": events.energy, \"rad\": rad})\n",
    "\n",
    "        # sample from pdf along rad axis\n",
    "        return events\n",
    "\n",
    "    def sample_background(self):\n",
    "        self.background_map\n",
    "        # sample from background model without applying IRFs\n",
    "        return events\n",
    "\n",
    "    def sample_npred(self):\n",
    "        n_events = self.npred_total()\n",
    "        \n",
    "        cdf_sampler = InverseCDFSampler(self.npred_map.data, random_state=self.random_state)\n",
    "        \n",
    "        pix_coords = cdf_sampler.sample(n_events)\n",
    "        coords = self.npred_map.geom.pix_to_coord(pix_coords[::-1])\n",
    "        \n",
    "        events = Table()\n",
    "        events['lon_true'] = coords[0] * u.deg\n",
    "        events['lat_true'] = coords[1] * u.deg\n",
    "        events['e_true'] = coords[2] * u.TeV\n",
    "        return events\n",
    "\n",
    "    def sample_events(self):\n",
    "        \"\"\"Sample all events.\n",
    "        \n",
    "        Returns\n",
    "        -------\n",
    "        \n",
    "        \"\"\"\n",
    "        events = self.sample_npred()\n",
    "        events = self.apply_psf(events)\n",
    "        events = self.apply_edisp(events)\n",
    "\n",
    "        bkg_events = self.sample_background()\n",
    "\n",
    "        table = vstack(events, bkg_events)\n",
    "        \n",
    "        return table"
   ]
  },
  {
   "cell_type": "markdown",
   "metadata": {},
   "source": [
    "### Toy source model\n",
    "\n",
    "For testing let's create a toy source model with a Gaussian morphology and a power-law spectrum:"
   ]
  },
  {
   "cell_type": "code",
   "execution_count": 7,
   "metadata": {},
   "outputs": [],
   "source": [
    "spatial_model = SkyGaussian(\"0 deg\", \"0 deg\", sigma=\"0.2 deg\")\n",
    "spectral_model = PowerLaw(amplitude=\"1e-11 cm-2 s-1 TeV-1\")\n",
    "skymodel = SkyModel(spatial_model=spatial_model, spectral_model=spectral_model)"
   ]
  },
  {
   "cell_type": "markdown",
   "metadata": {},
   "source": [
    "Now we create a reference exposure map, we use to evaluate the model:"
   ]
  },
  {
   "cell_type": "code",
   "execution_count": 8,
   "metadata": {},
   "outputs": [],
   "source": [
    "position = SkyCoord(0.0, 0.0, frame='galactic', unit='deg')\n",
    "\n",
    "energy_axis = MapAxis.from_bounds(1, 100, nbin=30, unit=\"TeV\", name=\"energy\", interp=\"log\")\n",
    "\n",
    "exposure = Map.create(\n",
    "    binsz=0.02,\n",
    "    map_type='wcs',\n",
    "    skydir=position,\n",
    "    width=\"5 deg\",\n",
    "    axes=[energy_axis],\n",
    "    coordsys=\"GAL\", unit=\"cm2 s\"\n",
    ")\n",
    "\n",
    "exposure.data = 1e13 * np.ones(exposure.data.shape)"
   ]
  },
  {
   "cell_type": "markdown",
   "metadata": {},
   "source": [
    "To compute the predicted number of counts we use the `MapEvaluator`:"
   ]
  },
  {
   "cell_type": "code",
   "execution_count": 9,
   "metadata": {},
   "outputs": [],
   "source": [
    "evaluator = MapEvaluator(model=skymodel, exposure=exposure)\n",
    "npred = evaluator.compute_npred()"
   ]
  },
  {
   "cell_type": "code",
   "execution_count": 10,
   "metadata": {},
   "outputs": [
    {
     "data": {
      "application/vnd.jupyter.widget-view+json": {
       "model_id": "97efda5381b54fca95fe25baf57fa017",
       "version_major": 2,
       "version_minor": 0
      },
      "text/plain": [
       "interactive(children=(SelectionSlider(continuous_update=False, description='Select energy:', layout=Layout(wid…"
      ]
     },
     "metadata": {},
     "output_type": "display_data"
    }
   ],
   "source": [
    "npred.plot_interactive()"
   ]
  },
  {
   "cell_type": "code",
   "execution_count": 11,
   "metadata": {},
   "outputs": [],
   "source": [
    "sampler = MapEventSampler(npred)"
   ]
  },
  {
   "cell_type": "code",
   "execution_count": 12,
   "metadata": {},
   "outputs": [
    {
     "data": {
      "text/html": [
       "<i>Table length=100</i>\n",
       "<table id=\"table140308504465248\" class=\"table-striped table-bordered table-condensed\">\n",
       "<thead><tr><th>lon_true</th><th>lat_true</th><th>e_true</th></tr></thead>\n",
       "<thead><tr><th>deg</th><th>deg</th><th>TeV</th></tr></thead>\n",
       "<thead><tr><th>float64</th><th>float64</th><th>float64</th></tr></thead>\n",
       "<tr><td>0.2733370969594273</td><td>-0.07244496321415028</td><td>1.5217603637521027</td></tr>\n",
       "<tr><td>0.15837797220024016</td><td>-0.2164079264488072</td><td>2.1419659842005205</td></tr>\n",
       "<tr><td>359.8918551765717</td><td>-0.019506425432173274</td><td>5.622337036174219</td></tr>\n",
       "<tr><td>0.21535531715658124</td><td>-0.1186550073707349</td><td>1.7314521299420373</td></tr>\n",
       "<tr><td>0.15735024730484043</td><td>0.2935878554699713</td><td>1.7356792123034828</td></tr>\n",
       "<tr><td>359.9989314563643</td><td>-0.03092606310887902</td><td>1.7304144260407368</td></tr>\n",
       "<tr><td>0.005488112715788418</td><td>0.07073158422217432</td><td>1.206531807265262</td></tr>\n",
       "<tr><td>0.21977145082749927</td><td>-0.16206657413919318</td><td>3.3898717477327427</td></tr>\n",
       "<tr><td>359.8245883850299</td><td>0.09980677894793416</td><td>1.4559340127482747</td></tr>\n",
       "<tr><td>...</td><td>...</td><td>...</td></tr>\n",
       "<tr><td>359.9948263186622</td><td>-0.0035576453361150584</td><td>30.135578560595683</td></tr>\n",
       "<tr><td>359.98301923383144</td><td>-0.23620304176194482</td><td>1.5714171647061466</td></tr>\n",
       "<tr><td>0.0793339074690661</td><td>-0.24977362034907089</td><td>5.199601411815321</td></tr>\n",
       "<tr><td>0.10082034556273044</td><td>0.06448634057949448</td><td>17.08823681133315</td></tr>\n",
       "<tr><td>0.012892623030561481</td><td>0.08195688968988066</td><td>3.5358538730155957</td></tr>\n",
       "<tr><td>359.65286586219196</td><td>-0.10275616965156643</td><td>41.39587804204178</td></tr>\n",
       "<tr><td>0.17967342994632587</td><td>-0.10054161021953746</td><td>1.1763465343878494</td></tr>\n",
       "<tr><td>0.1362953534952763</td><td>0.4392166931612599</td><td>78.63715177583421</td></tr>\n",
       "<tr><td>359.7319748099839</td><td>-0.021868890015576313</td><td>1.2230749144976887</td></tr>\n",
       "<tr><td>0.0014141716539458572</td><td>0.25548094665397286</td><td>6.022214671662589</td></tr>\n",
       "</table>"
      ],
      "text/plain": [
       "<Table length=100>\n",
       "       lon_true              lat_true              e_true      \n",
       "         deg                   deg                  TeV        \n",
       "       float64               float64              float64      \n",
       "--------------------- ---------------------- ------------------\n",
       "   0.2733370969594273   -0.07244496321415028 1.5217603637521027\n",
       "  0.15837797220024016    -0.2164079264488072 2.1419659842005205\n",
       "    359.8918551765717  -0.019506425432173274  5.622337036174219\n",
       "  0.21535531715658124    -0.1186550073707349 1.7314521299420373\n",
       "  0.15735024730484043     0.2935878554699713 1.7356792123034828\n",
       "    359.9989314563643   -0.03092606310887902 1.7304144260407368\n",
       " 0.005488112715788418    0.07073158422217432  1.206531807265262\n",
       "  0.21977145082749927   -0.16206657413919318 3.3898717477327427\n",
       "    359.8245883850299    0.09980677894793416 1.4559340127482747\n",
       "                  ...                    ...                ...\n",
       "    359.9948263186622 -0.0035576453361150584 30.135578560595683\n",
       "   359.98301923383144   -0.23620304176194482 1.5714171647061466\n",
       "   0.0793339074690661   -0.24977362034907089  5.199601411815321\n",
       "  0.10082034556273044    0.06448634057949448  17.08823681133315\n",
       " 0.012892623030561481    0.08195688968988066 3.5358538730155957\n",
       "   359.65286586219196   -0.10275616965156643  41.39587804204178\n",
       "  0.17967342994632587   -0.10054161021953746 1.1763465343878494\n",
       "   0.1362953534952763     0.4392166931612599  78.63715177583421\n",
       "    359.7319748099839  -0.021868890015576313 1.2230749144976887\n",
       "0.0014141716539458572    0.25548094665397286  6.022214671662589"
      ]
     },
     "execution_count": 12,
     "metadata": {},
     "output_type": "execute_result"
    }
   ],
   "source": [
    "events = sampler.sample_npred()\n",
    "events"
   ]
  },
  {
   "cell_type": "markdown",
   "metadata": {},
   "source": [
    "### Sampling from the PSF\n",
    "\n",
    "For the testing of the PSF sampling we read in an example PSF from the CTA first data challenge:"
   ]
  },
  {
   "cell_type": "code",
   "execution_count": 13,
   "metadata": {},
   "outputs": [],
   "source": [
    "filename = \"$GAMMAPY_DATA/cta-1dc/caldb/data/cta/1dc/bcf/South_z20_50h/irf_file.fits\"\n",
    "psf_gauss = EnergyDependentMultiGaussPSF.read(filename=filename, hdu=\"POINT SPREAD FUNCTION\")\n",
    "psf_3d = psf_gauss.to_psf3d(rad=np.linspace(0, 1, 100) * u.deg)"
   ]
  },
  {
   "cell_type": "markdown",
   "metadata": {},
   "source": [
    "From this we create a PSF map:"
   ]
  },
  {
   "cell_type": "code",
   "execution_count": 14,
   "metadata": {},
   "outputs": [],
   "source": [
    "theta_axis = MapAxis.from_bounds(0, 0.5, nbin=100, unit=\"deg\", name=\"theta\")\n",
    "\n",
    "geom_psf = WcsGeom.create(\n",
    "    binsz=0.2,\n",
    "    skydir=position,\n",
    "    width=\"5 deg\",\n",
    "    axes=[theta_axis, energy_axis],\n",
    "    coordsys=\"GAL\"\n",
    ")"
   ]
  },
  {
   "cell_type": "code",
   "execution_count": 15,
   "metadata": {},
   "outputs": [],
   "source": [
    "psf_map = make_psf_map(psf_3d, geom=geom_psf, pointing=geom_psf.center_skydir, max_offset=3 * u.deg)"
   ]
  },
  {
   "cell_type": "markdown",
   "metadata": {},
   "source": [
    "Now we look up the shape of the PSF at every true event position (in space and energy):"
   ]
  },
  {
   "cell_type": "code",
   "execution_count": 16,
   "metadata": {},
   "outputs": [],
   "source": [
    "events.sort(\"e_true\")\n",
    "coord = {\n",
    "    \"lon\": events[\"lon_true\"].reshape(-1, 1),\n",
    "    \"lat\": events[\"lat_true\"].reshape(-1, 1),\n",
    "    \"energy\": events[\"e_true\"].quantity.reshape(-1, 1),\n",
    "    \"theta\": (theta_axis.center * theta_axis.unit)\n",
    "}\n",
    "\n",
    "pdf = psf_map.psf_map.interp_by_coord(coord)"
   ]
  },
  {
   "cell_type": "code",
   "execution_count": 17,
   "metadata": {},
   "outputs": [
    {
     "data": {
      "text/plain": [
       "Text(0,0.5,'Event #')"
      ]
     },
     "execution_count": 17,
     "metadata": {},
     "output_type": "execute_result"
    },
    {
     "data": {
      "image/png": "[encoded data removed]",
      "text/plain": [
       "<matplotlib.figure.Figure at 0x7f9c1e855748>"
      ]
     },
     "metadata": {},
     "output_type": "display_data"
    }
   ],
   "source": [
    "plt.figure(figsize=(12, 4))\n",
    "plt.imshow(np.sqrt(pdf))\n",
    "plt.xlabel(\"Theta (pixels)\")\n",
    "plt.ylabel(\"Event #\")"
   ]
  },
  {
   "cell_type": "markdown",
   "metadata": {},
   "source": [
    "Now we sample form the 2D PDF along the theta axis:"
   ]
  },
  {
   "cell_type": "code",
   "execution_count": 18,
   "metadata": {},
   "outputs": [],
   "source": [
    "sample_pdf = InverseCDFSampler(pdf, axis=1)\n",
    "pix_coord = sample_pdf.sample_axis()\n",
    "\n",
    "offset = theta_axis.pix_to_coord(pix_coord)"
   ]
  },
  {
   "cell_type": "markdown",
   "metadata": {},
   "source": [
    "A an additional check we sample from a point source at fixed energy:"
   ]
  },
  {
   "cell_type": "code",
   "execution_count": 19,
   "metadata": {},
   "outputs": [],
   "source": [
    "N = 100000\n",
    "energy = np.ones(N) * u.TeV\n",
    "theta = (theta_axis.center * theta_axis.unit)\n",
    "\n",
    "coord = {\n",
    "    \"lon\": np.zeros(N).reshape(-1, 1),\n",
    "    \"lat\": np.zeros(N).reshape(-1, 1),\n",
    "    \"energy\": energy.reshape(-1, 1),\n",
    "    \"theta\": theta\n",
    "    \n",
    "}\n",
    "\n",
    "pdf = psf_map.psf_map.interp_by_coord(coord)"
   ]
  },
  {
   "cell_type": "code",
   "execution_count": 20,
   "metadata": {},
   "outputs": [],
   "source": [
    "sample_pdf = InverseCDFSampler(pdf, axis=1)\n",
    "pix_coord = sample_pdf.sample_axis()\n",
    "coords = theta_axis.pix_to_coord(pix_coord)"
   ]
  },
  {
   "cell_type": "markdown",
   "metadata": {},
   "source": [
    "This what the CDF looks like:"
   ]
  },
  {
   "cell_type": "code",
   "execution_count": 21,
   "metadata": {},
   "outputs": [
    {
     "data": {
      "text/plain": [
       "[<matplotlib.lines.Line2D at 0x7f9c1e772668>]"
      ]
     },
     "execution_count": 21,
     "metadata": {},
     "output_type": "execute_result"
    },
    {
     "data": {
      "image/png": "[encoded data removed]",
      "text/plain": [
       "<matplotlib.figure.Figure at 0x7f9c1e7e7278>"
      ]
     },
     "metadata": {},
     "output_type": "display_data"
    }
   ],
   "source": [
    "plt.plot(sample_pdf.cdf[0])"
   ]
  },
  {
   "cell_type": "markdown",
   "metadata": {},
   "source": [
    "Let's check the histogram against the analytical PDF:"
   ]
  },
  {
   "cell_type": "code",
   "execution_count": 24,
   "metadata": {},
   "outputs": [
    {
     "data": {
      "text/plain": [
       "(0, 0.2)"
      ]
     },
     "execution_count": 24,
     "metadata": {},
     "output_type": "execute_result"
    },
    {
     "data": {
      "image/png": "[encoded data removed]",
      "text/plain": [
       "<matplotlib.figure.Figure at 0x7f9c1e707160>"
      ]
     },
     "metadata": {},
     "output_type": "display_data"
    }
   ],
   "source": [
    "psf_value = psf_3d.evaluate(energy=1 * u.TeV, offset=0 * u.deg, rad=theta)\n",
    "psf_value = psf_value / psf_value.sum()\n",
    "\n",
    "psf_hist, vals = np.histogram(coords, theta_axis.edges)\n",
    "plt.step(theta, psf_hist / psf_hist.sum());\n",
    "plt.plot(theta, psf_value.squeeze())\n",
    "plt.semilogy()\n",
    "plt.ylim(1e-6, 1)\n",
    "plt.xlim(0, 0.2)"
   ]
  },
  {
   "cell_type": "code",
   "execution_count": null,
   "metadata": {},
   "outputs": [],
   "source": []
  }
 ],
 "metadata": {
  "kernelspec": {
   "display_name": "Python 3",
   "language": "python",
   "name": "python3"
  },
  "language_info": {
   "codemirror_mode": {
    "name": "ipython",
    "version": 3
   },
   "file_extension": ".py",
   "mimetype": "text/x-python",
   "name": "python",
   "nbconvert_exporter": "python",
   "pygments_lexer": "ipython3",
   "version": "3.6.0"
  }
 },
 "nbformat": 4,
 "nbformat_minor": 2
}
