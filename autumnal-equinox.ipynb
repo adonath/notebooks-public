{
 "cells": [
  {
   "cell_type": "markdown",
   "metadata": {},
   "source": [
    "# Vernal Equinox and Equatorial Coordinates\n",
    "\n",
    "The [equatorial coordinate system](https://en.wikipedia.org/wiki/Equatorial_coordinate_system) (ra, dec), is defined\n",
    "such that it alignes with the Earth's equator and poles. So a declination of dec = 0 is by definition on the equatorial plane projected on the sky. The right ascention is measured against the vernal equinox, which is defined as the point, where the sun is in south, or at an azimuth angle of 180 deg (azimuth angle is measured against north direction).\n",
    "\n",
    "\n",
    "From this we can find the location and time, where the ra=0 and dec=0 are equivalent to alt=0 and az=0 and both coordinate systems are aligned:\n",
    "\n",
    "* The horizontal plane is parallel to the equatorial plane at the poles.\n",
    "* At the vernal equinox the sun is at it's in south by definition, which corresponds to az = 180. So it must be at az =0 at the autumnal equinox.\n",
    "\n",
    "Let's try to check it with Astropy:"
   ]
  },
  {
   "cell_type": "code",
   "execution_count": 1,
   "metadata": {},
   "outputs": [],
   "source": [
    "%matplotlib inline\n",
    "import matplotlib.pyplot as plt"
   ]
  },
  {
   "cell_type": "code",
   "execution_count": 2,
   "metadata": {},
   "outputs": [],
   "source": [
    "import astropy.units as u\n",
    "from astropy.time import Time\n",
    "from astropy.coordinates import SkyCoord, EarthLocation, AltAz\n",
    "from gammapy.maps import Map"
   ]
  },
  {
   "cell_type": "code",
   "execution_count": 3,
   "metadata": {},
   "outputs": [
    {
     "name": "stdout",
     "output_type": "stream",
     "text": [
      "0.004469289655773064 0.6578297071010949\n"
     ]
    }
   ],
   "source": [
    "skycoord = SkyCoord(0, 0, frame=\"fk5\", unit=\"deg\")\n",
    "\n",
    "north_pole = pole = EarthLocation(lat=90*u.deg, lon=0*u.deg)\n",
    "time = Time('2000-9-21 12:00:00')\n",
    "\n",
    "altaz = skycoord.transform_to(AltAz(obstime=time, location=north_pole))\n",
    "print(altaz.alt.deg, altaz.az.deg)"
   ]
  },
  {
   "cell_type": "code",
   "execution_count": 4,
   "metadata": {},
   "outputs": [],
   "source": [
    "skymap = Map.create(skydir=skycoord, width=\"10 deg\")"
   ]
  },
  {
   "cell_type": "code",
   "execution_count": 5,
   "metadata": {},
   "outputs": [],
   "source": [
    "coords = skymap.geom.get_coord().skycoord"
   ]
  },
  {
   "cell_type": "code",
   "execution_count": 6,
   "metadata": {},
   "outputs": [],
   "source": [
    "altaz = coords.transform_to(AltAz(obstime=time, location=north_pole))"
   ]
  },
  {
   "cell_type": "code",
   "execution_count": 7,
   "metadata": {},
   "outputs": [
    {
     "data": {
      "text/plain": [
       "<matplotlib.image.AxesImage at 0x11d6669b0>"
      ]
     },
     "execution_count": 7,
     "metadata": {},
     "output_type": "execute_result"
    },
    {
     "data": {
      "image/png": "[encoded data removed]",
      "text/plain": [
       "<Figure size 432x288 with 1 Axes>"
      ]
     },
     "metadata": {
      "needs_background": "light"
     },
     "output_type": "display_data"
    }
   ],
   "source": [
    "plt.imshow(altaz.alt.deg)"
   ]
  },
  {
   "cell_type": "code",
   "execution_count": 8,
   "metadata": {},
   "outputs": [
    {
     "data": {
      "text/plain": [
       "<matplotlib.image.AxesImage at 0x1184df390>"
      ]
     },
     "execution_count": 8,
     "metadata": {},
     "output_type": "execute_result"
    },
    {
     "data": {
      "image/png": "[encoded data removed]",
      "text/plain": [
       "<Figure size 432x288 with 1 Axes>"
      ]
     },
     "metadata": {
      "needs_background": "light"
     },
     "output_type": "display_data"
    }
   ],
   "source": [
    "plt.imshow(altaz.az.wrap_at(\"180d\").deg)"
   ]
  },
  {
   "cell_type": "markdown",
   "metadata": {},
   "source": [
    "Yeah!"
   ]
  },
  {
   "cell_type": "code",
   "execution_count": null,
   "metadata": {},
   "outputs": [],
   "source": []
  }
 ],
 "metadata": {
  "kernelspec": {
   "display_name": "Python 3",
   "language": "python",
   "name": "python3"
  },
  "language_info": {
   "codemirror_mode": {
    "name": "ipython",
    "version": 3
   },
   "file_extension": ".py",
   "mimetype": "text/x-python",
   "name": "python",
   "nbconvert_exporter": "python",
   "pygments_lexer": "ipython3",
   "version": "3.7.0"
  }
 },
 "nbformat": 4,
 "nbformat_minor": 2
}
