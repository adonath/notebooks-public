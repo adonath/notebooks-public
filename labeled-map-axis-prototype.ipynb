{
 "cells": [
  {
   "cell_type": "markdown",
   "id": "287a72b1",
   "metadata": {},
   "source": [
    "# Labelled map axis proof of concept\n",
    "\n",
    "This notebook explores the option of a `LabeledMapAxis` and implements a minimal working solution. However there are many un-solved question like:\n",
    "- How to serialise `LabeledMapAxis`?\n",
    "- Which methods to support?\n",
    "- Make sure methods like `Map.plot_grid()` etc. work\n"
   ]
  },
  {
   "cell_type": "code",
   "execution_count": 1,
   "id": "e31562ef",
   "metadata": {},
   "outputs": [],
   "source": [
    "from gammapy.maps import Map, MapAxis\n",
    "import numpy as np\n",
    "\n",
    "class LabeledMapAxis:\n",
    "    \"\"\"\"\"\"\n",
    "    node_type = \"label\"\n",
    "    def __init__(self, labels, name=\"\"):\n",
    "        unique_labels = set(labels)\n",
    "        if not len(unique_labels) == len(labels):\n",
    "            raise ValueError(\"Node labels must be unique\")\n",
    "        \n",
    "        self._labels = np.array(labels)\n",
    "        self._name = name\n",
    "    \n",
    "    @property\n",
    "    def name(self):\n",
    "        return self._name\n",
    "    \n",
    "    @property\n",
    "    def nbin(self):\n",
    "        return len(self._labels)\n",
    "    \n",
    "    def coord_to_idx(self, coord, clip=False):\n",
    "        coord = np.array(coord)[..., np.newaxis]\n",
    "        is_equal = coord == self._labels\n",
    "        if not np.all(np.any(is_equal, axis=-1)):\n",
    "            label = coord[~np.any(is_equal, axis=-1)]\n",
    "            raise ValueError(f\"Not a valid label: {label}\")\n",
    "            \n",
    "        return np.argmax(is_equal, axis=-1)\n",
    "\n",
    "    def coord_to_pix(self, coord):\n",
    "        return self.coord_to_idx(coord)\n",
    "    \n",
    "    def pix_to_idx(self, pix, clip=False):\n",
    "        return pix\n",
    "    \n",
    "    @property\n",
    "    def center(self):\n",
    "        return self._labels\n",
    "    \n",
    "    @property\n",
    "    def bin_width(self):\n",
    "        return np.ones(self.nbin)\n",
    "    \n",
    "    def __repr__(self):\n",
    "        str_ = self.__class__.__name__ + \"\\n\"\n",
    "        str_ += \"-\" * len(self.__class__.__name__) + \"\\n\\n\"\n",
    "        fmt = \"\\t{:<10s} : {:<10s}\\n\"\n",
    "        str_ += fmt.format(\"name\", self.name)\n",
    "        str_ += fmt.format(\"nbins\", str(self.nbin))\n",
    "        str_ += fmt.format(\"node type\", self.node_type)\n",
    "        str_ += fmt.format(f\"labels\", \"{0}\".format(list(self._labels)))\n",
    "        return str_.expandtabs(tabsize=2)\n",
    "    \n",
    "    def upsample(self):\n",
    "        raise NotImplementedError"
   ]
  },
  {
   "cell_type": "markdown",
   "id": "ccf15e11",
   "metadata": {},
   "source": [
    "One could even imagine setting a `LabeledMapAxis` as and \"index\" for `Map.__getitem__`:"
   ]
  },
  {
   "cell_type": "code",
   "execution_count": 2,
   "id": "a27424e6",
   "metadata": {},
   "outputs": [],
   "source": [
    "def __getitem__(self, idx):\n",
    "    return self.get_image_by_coord({\"label\": idx})\n",
    "\n",
    "Map.__getitem__ = __getitem__"
   ]
  },
  {
   "cell_type": "code",
   "execution_count": 3,
   "id": "ac776b89",
   "metadata": {},
   "outputs": [],
   "source": [
    "axis = LabeledMapAxis([\"d1\", \"d2\", \"d3\"], name=\"label\")\n",
    "m = Map.create(width=5, axes=[axis])\n",
    "m.data += np.arange(3)[:, np.newaxis, np.newaxis] + 1\n",
    "m.data = np.random.poisson(m.data)"
   ]
  },
  {
   "cell_type": "code",
   "execution_count": 4,
   "id": "7b9f6580",
   "metadata": {},
   "outputs": [
    {
     "name": "stdout",
     "output_type": "stream",
     "text": [
      "LabeledMapAxis\n",
      "--------------\n",
      "\n",
      "  name       : label     \n",
      "  nbins      : 3         \n",
      "  node type  : label     \n",
      "  labels     : ['d1', 'd2', 'd3']\n",
      "\n"
     ]
    }
   ],
   "source": [
    "print(axis)"
   ]
  },
  {
   "cell_type": "code",
   "execution_count": 5,
   "id": "2dce41be",
   "metadata": {},
   "outputs": [
    {
     "data": {
      "text/plain": [
       "array([[0, 2, 1, ..., 1, 0, 0],\n",
       "       [1, 1, 1, ..., 0, 1, 2],\n",
       "       [1, 0, 1, ..., 0, 1, 0],\n",
       "       ...,\n",
       "       [1, 2, 1, ..., 1, 1, 2],\n",
       "       [2, 1, 1, ..., 1, 1, 2],\n",
       "       [1, 1, 0, ..., 1, 1, 2]])"
      ]
     },
     "execution_count": 5,
     "metadata": {},
     "output_type": "execute_result"
    }
   ],
   "source": [
    "m[\"d1\"].data"
   ]
  },
  {
   "cell_type": "code",
   "execution_count": 6,
   "id": "bf6fdb26",
   "metadata": {},
   "outputs": [
    {
     "data": {
      "text/plain": [
       "array([[3, 0, 1, ..., 3, 3, 4],\n",
       "       [4, 0, 1, ..., 2, 4, 1],\n",
       "       [2, 1, 2, ..., 2, 0, 2],\n",
       "       ...,\n",
       "       [0, 2, 0, ..., 2, 1, 4],\n",
       "       [4, 3, 3, ..., 1, 4, 2],\n",
       "       [3, 2, 1, ..., 1, 1, 2]])"
      ]
     },
     "execution_count": 6,
     "metadata": {},
     "output_type": "execute_result"
    }
   ],
   "source": [
    "m[\"d2\"].data"
   ]
  },
  {
   "cell_type": "code",
   "execution_count": 7,
   "id": "0e856c36",
   "metadata": {},
   "outputs": [
    {
     "data": {
      "text/plain": [
       "array([[5, 3, 1, ..., 3, 4, 1],\n",
       "       [6, 3, 4, ..., 3, 4, 2],\n",
       "       [5, 3, 1, ..., 3, 0, 2],\n",
       "       ...,\n",
       "       [3, 1, 1, ..., 3, 4, 4],\n",
       "       [2, 4, 6, ..., 2, 7, 3],\n",
       "       [4, 2, 6, ..., 3, 4, 5]])"
      ]
     },
     "execution_count": 7,
     "metadata": {},
     "output_type": "execute_result"
    }
   ],
   "source": [
    "m[\"d3\"].data"
   ]
  },
  {
   "cell_type": "code",
   "execution_count": 8,
   "id": "7c69e7a5",
   "metadata": {},
   "outputs": [
    {
     "name": "stdout",
     "output_type": "stream",
     "text": [
      "RegionNDMap\n",
      "\n",
      "\tgeom  : RegionGeom \n",
      " \taxes  : ['lon', 'lat', 'label']\n",
      "\tshape : (1, 1, 3)\n",
      "\tndim  : 3\n",
      "\tunit  : \n",
      "\tdtype : int64\n",
      "\n"
     ]
    }
   ],
   "source": [
    "print(m.to_region_nd_map())"
   ]
  },
  {
   "cell_type": "code",
   "execution_count": null,
   "id": "563e09ff",
   "metadata": {},
   "outputs": [],
   "source": []
  }
 ],
 "metadata": {
  "kernelspec": {
   "display_name": "Python 3",
   "language": "python",
   "name": "python3"
  },
  "language_info": {
   "codemirror_mode": {
    "name": "ipython",
    "version": 3
   },
   "file_extension": ".py",
   "mimetype": "text/x-python",
   "name": "python",
   "nbconvert_exporter": "python",
   "pygments_lexer": "ipython3",
   "version": "3.8.6"
  }
 },
 "nbformat": 4,
 "nbformat_minor": 5
}
