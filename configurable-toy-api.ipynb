{
 "cells": [
  {
   "cell_type": "code",
   "execution_count": 14,
   "id": "c54fc23c",
   "metadata": {},
   "outputs": [],
   "source": [
    "import yaml\n",
    "import textwrap\n",
    "\n",
    "class Registry(list):\n",
    "    \"\"\"Registry class\"\"\"\n",
    "    def get_cls(self, tag):\n",
    "        \"\"\"Get class by tag\"\"\"\n",
    "        for cls in self:\n",
    "            if tag == cls.tag:\n",
    "                return cls\n",
    "        raise KeyError(f\"No object found with tag: {tag!r}\")\n",
    "\n",
    "        \n",
    "class TypedAttribute:\n",
    "    \"\"\"Typed attribute\"\"\"        \n",
    "    def __init__(self, default=None , info=None, json_decode=None, type_=None):\n",
    "        self.default = default            \n",
    "        self.info = info\n",
    "        self.json_decode = json_decode\n",
    "        \n",
    "        if type_ is None:\n",
    "            self._type_ = type(default)\n",
    "        else:\n",
    "            raise ValueError(\"Default value required\")\n",
    "    \n",
    "    @property\n",
    "    def type_(self):\n",
    "        return type(self.default)\n",
    "    \n",
    "    # not sure this is safe...\n",
    "    @property\n",
    "    def __doc__(self):\n",
    "        return self.info\n",
    "        \n",
    "    def __set_name__(self, owner, name):\n",
    "        self.name = name\n",
    "\n",
    "    def __get__(self, instance, cls):\n",
    "        if instance is None:\n",
    "            return self\n",
    "        return instance.__dict__.get(\"_value_\" + self.name, self.default)\n",
    "\n",
    "    def __set__(self, instance, value):\n",
    "        if not type(value) == type(self.default):\n",
    "            raise ValueError(f\"Wrong type {type(value)}, expected {type(self.default)}\")\n",
    "            \n",
    "        instance.__dict__[\"_value_\" + self.name] = value\n",
    "    \n",
    "    def to_json(self):\n",
    "        \"\"\"To json\"\"\"\n",
    "        return self.json_decode(self)\n",
    "\n",
    "    \n",
    "class Configurable:\n",
    "    \"\"\"Configurable with typed attributes\"\"\"  \n",
    "    def __init__(self, **kwargs):\n",
    "        for name, value in kwargs.items():\n",
    "            setattr(self, name, value)\n",
    "    \n",
    "    @classmethod\n",
    "    def typed_attributes(cls):\n",
    "        attributes = {}\n",
    "        \n",
    "        for name, value in cls.__dict__.items():\n",
    "            if isinstance(value, TypedAttribute):\n",
    "                attributes[name] = value\n",
    "        \n",
    "        return attributes\n",
    "    \n",
    "    def __setattr__(self, name, value):\n",
    "        attribute = getattr(self.__class__, name, None)\n",
    "        \n",
    "        if attribute is None:\n",
    "            raise AttributeError(f\"Not a valid attribute: '{name}'\")\n",
    "            \n",
    "        attribute.__set__(self, value)\n",
    "\n",
    "    def __str__(self):\n",
    "        info = self.__class__.__name__\n",
    "        info += \"\\n\" + len(info) * \"-\" + \"\\n\\n\"\n",
    "        \n",
    "        for name, attribute in self.typed_attributes().items():\n",
    "            value = getattr(self, name)\n",
    "            if isinstance(value, Configurable):\n",
    "                info += f\"\\t{name}:\\n\\n\" + textwrap.indent(str(value), prefix=\"\\t\\t\") + \"\\n\"\n",
    "            else:\n",
    "                info += f\"\\t{name}: {getattr(self, name)} ({attribute.info}) \\n\"\n",
    "            \n",
    "        return info.expandtabs(tabsize=2)\n",
    "    \n",
    "    def to_json(self):\n",
    "        \"\"\"To json\"\"\"\n",
    "        data = {}\n",
    "        \n",
    "        for name, value in self.typed_attributes().items():\n",
    "            value_attr = getattr(self, name)\n",
    "            \n",
    "            if isinstance(value_attr, Configurable):\n",
    "                data[name] = value_attr.to_json()  \n",
    "            else:\n",
    "                data[name] = value_attr\n",
    "            \n",
    "        return {self.tag: data}\n",
    "    \n",
    "    def to_yaml(self, sort_keys=True):\n",
    "        \"\"\"To yaml\"\"\"\n",
    "        data = self.to_json()\n",
    "        return yaml.dump(data, default_flow_style=False, sort_keys=sort_keys)\n",
    "        \n",
    "    @classmethod\n",
    "    def from_json(cls, data):\n",
    "        \"\"\"From json\"\"\"\n",
    "        if isinstance(data, dict) and len(data) == 1:\n",
    "            cls_name, data = data.popitem()\n",
    "            cls = CONFIGURABLE.get_cls(cls_name)\n",
    "        \n",
    "        kwargs = {}\n",
    "                \n",
    "        for name, value in data.items():\n",
    "            try:\n",
    "                value = cls.from_json(value)\n",
    "            except (KeyError, AttributeError):\n",
    "                pass\n",
    "            \n",
    "            kwargs[name] = value\n",
    "        \n",
    "        return cls(**kwargs) \n",
    "        \n",
    "        \n",
    "class MyData(Configurable):\n",
    "    \"\"\"My data\"\"\"\n",
    "    tag = \"my-data\"\n",
    "    value_int = TypedAttribute(default=42, info=\"This the answer to everything\")\n",
    "    value_str = TypedAttribute(default=\"abc\", info=\"Just the start of the alphabet\")\n",
    "    \n",
    "    \n",
    "class MyOtherData(Configurable):\n",
    "    \"\"\"My other data\"\"\"\n",
    "    tag = \"my-other-data\"\n",
    "    value_cls = TypedAttribute(default=MyData(), info=\"MyData as attribute\")\n",
    "    value_int = TypedAttribute(default=123)\n",
    "\n",
    "    \n",
    "class MyComplexData(Configurable):\n",
    "    tag = \"my-complex-data\"\n",
    "    value_1 = TypedAttribute(default=MyOtherData())\n",
    "    value_2 = TypedAttribute(default=MyData())\n",
    "\n",
    "CONFIGURABLE = Registry([MyData, MyOtherData, MyComplexData])"
   ]
  },
  {
   "cell_type": "code",
   "execution_count": 15,
   "id": "9fd23b04",
   "metadata": {},
   "outputs": [],
   "source": [
    "#MyData.value_int?"
   ]
  },
  {
   "cell_type": "code",
   "execution_count": 16,
   "id": "45f83994",
   "metadata": {},
   "outputs": [],
   "source": [
    "data = MyData()\n",
    "data.value_int = 3455"
   ]
  },
  {
   "cell_type": "code",
   "execution_count": 17,
   "id": "07acbc5f",
   "metadata": {},
   "outputs": [
    {
     "name": "stdout",
     "output_type": "stream",
     "text": [
      "MyData\n",
      "------\n",
      "\n",
      "  value_int: 3455 (This the answer to everything) \n",
      "  value_str: abc (Just the start of the alphabet) \n",
      "\n"
     ]
    }
   ],
   "source": [
    "print(data)"
   ]
  },
  {
   "cell_type": "code",
   "execution_count": 18,
   "id": "098aec3c",
   "metadata": {},
   "outputs": [],
   "source": [
    "#data.value_int = \"asdd\""
   ]
  },
  {
   "cell_type": "code",
   "execution_count": 19,
   "id": "caca69d2",
   "metadata": {},
   "outputs": [],
   "source": [
    "data_other = MyOtherData()\n",
    "data_other.value_cls = MyData()"
   ]
  },
  {
   "cell_type": "code",
   "execution_count": 20,
   "id": "7bf5df9f",
   "metadata": {},
   "outputs": [
    {
     "name": "stdout",
     "output_type": "stream",
     "text": [
      "MyOtherData\n",
      "-----------\n",
      "\n",
      "  value_cls:\n",
      "\n",
      "    MyData\n",
      "    ------\n",
      "\n",
      "      value_int: 42 (This the answer to everything) \n",
      "      value_str: abc (Just the start of the alphabet) \n",
      "\n",
      "  value_int: 123 (None) \n",
      "\n"
     ]
    }
   ],
   "source": [
    "print(data_other)"
   ]
  },
  {
   "cell_type": "code",
   "execution_count": 21,
   "id": "c4a163a5",
   "metadata": {},
   "outputs": [],
   "source": [
    "data_other.value_cls.value_int = 45"
   ]
  },
  {
   "cell_type": "code",
   "execution_count": 22,
   "id": "8dc395da",
   "metadata": {},
   "outputs": [],
   "source": [
    "json_data = data_other.to_json()"
   ]
  },
  {
   "cell_type": "code",
   "execution_count": 23,
   "id": "858beb13",
   "metadata": {},
   "outputs": [
    {
     "name": "stdout",
     "output_type": "stream",
     "text": [
      "MyOtherData\n",
      "-----------\n",
      "\n",
      "  value_cls:\n",
      "\n",
      "    MyData\n",
      "    ------\n",
      "\n",
      "      value_int: 45 (This the answer to everything) \n",
      "      value_str: abc (Just the start of the alphabet) \n",
      "\n",
      "  value_int: 123 (None) \n",
      "\n"
     ]
    }
   ],
   "source": [
    "c = Configurable.from_json(json_data)\n",
    "print(c)"
   ]
  },
  {
   "cell_type": "code",
   "execution_count": 26,
   "id": "47cb6f40",
   "metadata": {},
   "outputs": [
    {
     "name": "stdout",
     "output_type": "stream",
     "text": [
      "MyComplexData\n",
      "-------------\n",
      "\n",
      "  value_1:\n",
      "\n",
      "    MyOtherData\n",
      "    -----------\n",
      "\n",
      "      value_cls:\n",
      "\n",
      "        MyData\n",
      "        ------\n",
      "\n",
      "          value_int: 42 (This the answer to everything) \n",
      "          value_str: abc (Just the start of the alphabet) \n",
      "\n",
      "      value_int: 123 (None) \n",
      "\n",
      "  value_2:\n",
      "\n",
      "    MyData\n",
      "    ------\n",
      "\n",
      "      value_int: 42 (This the answer to everything) \n",
      "      value_str: abc (Just the start of the alphabet) \n",
      "\n",
      "\n"
     ]
    }
   ],
   "source": [
    "data_complex = MyComplexData()\n",
    "c = Configurable.from_json(data_complex.to_json())\n",
    "print(c)"
   ]
  },
  {
   "cell_type": "code",
   "execution_count": null,
   "id": "4fdc9959",
   "metadata": {},
   "outputs": [],
   "source": [
    "class Te"
   ]
  }
 ],
 "metadata": {
  "kernelspec": {
   "display_name": "Python 3",
   "language": "python",
   "name": "python3"
  },
  "language_info": {
   "codemirror_mode": {
    "name": "ipython",
    "version": 3
   },
   "file_extension": ".py",
   "mimetype": "text/x-python",
   "name": "python",
   "nbconvert_exporter": "python",
   "pygments_lexer": "ipython3",
   "version": "3.8.6"
  }
 },
 "nbformat": 4,
 "nbformat_minor": 5
}
