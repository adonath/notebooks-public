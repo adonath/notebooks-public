{
 "cells": [
  {
   "cell_type": "markdown",
   "metadata": {},
   "source": [
    "# Numpy implementation of the structure function\n",
    "\n",
    "This notebooks shows a numpy implemetation of the structure function as describe e.g. in https://www.aanda.org/articles/aa/full/2007/05/aa6283-06/aa6283-06.right.html. The overall performance is a factor of ~30 better than the pure Python version."
   ]
  },
  {
   "cell_type": "code",
   "execution_count": 1,
   "metadata": {},
   "outputs": [],
   "source": [
    "%matplotlib inline\n",
    "import matplotlib.pyplot as plt\n",
    "import numpy as np\n",
    "from numpy.testing import assert_allclose\n",
    "from collections import Counter"
   ]
  },
  {
   "cell_type": "code",
   "execution_count": 2,
   "metadata": {},
   "outputs": [],
   "source": [
    "def StructureFunction(_time, _flux):\n",
    "    # define some variables\n",
    "    delta_tau, delta_flux, Tau, SF = [],[],[],[]\n",
    "    NN = len(_time)\n",
    "    # Loop over all (i,j) pairs\n",
    "    for i in range(NN) :\n",
    "        for j in range(i+1,NN):\n",
    "            delta_tau.append(_time[j]-_time[i])\n",
    "            delta_flux.append((_flux[j]-_flux[i])**2)\n",
    "    \n",
    "    # Count # of each element\n",
    "    NCount = dict(Counter(delta_tau))\n",
    "    for counter in NCount :\n",
    "        Tau.append(counter)\n",
    "\n",
    "    #Compute SF\n",
    "    for i in NCount:\n",
    "        k     = 0\n",
    "        summe = 0.0\n",
    "        for j in delta_tau:\n",
    "            if j == i :\n",
    "                summe +=delta_flux[k]\n",
    "            k +=1\n",
    "        SF.append(summe/NCount[i])\n",
    "    return Tau, SF"
   ]
  },
  {
   "cell_type": "code",
   "execution_count": 3,
   "metadata": {},
   "outputs": [],
   "source": [
    "def structure_function(time, flux):\n",
    "    i, j = np.indices((len(time), len(time)))\n",
    "    selection = (i < j)\n",
    "    delta_time = (time - time[:, np.newaxis])[selection]\n",
    "    delta_flux = ((flux - flux[:, np.newaxis]) ** 2)[selection]\n",
    "    \n",
    "    tau, n_tau = np.unique(delta_time, return_counts=True)\n",
    "    \n",
    "    weights = (delta_time == tau[:, np.newaxis])   \n",
    "    \n",
    "    # use matrix vector multiplication to compute the sum \n",
    "    sf = 1. / n_tau * np.dot(weights, delta_flux)\n",
    "    return tau, sf"
   ]
  },
  {
   "cell_type": "code",
   "execution_count": 4,
   "metadata": {},
   "outputs": [],
   "source": [
    "np.random.seed(0)\n",
    "N = 100\n",
    "time = np.random.randint(0, 100, N)\n",
    "flux = np.sin(0.1 * np.pi * time)"
   ]
  },
  {
   "cell_type": "code",
   "execution_count": 5,
   "metadata": {},
   "outputs": [
    {
     "name": "stdout",
     "output_type": "stream",
     "text": [
      "67.9 ms ± 487 µs per loop (mean ± std. dev. of 7 runs, 10 loops each)\n"
     ]
    }
   ],
   "source": [
    "%%timeit\n",
    "tau_ref, sf_ref = StructureFunction(time, flux)"
   ]
  },
  {
   "cell_type": "code",
   "execution_count": 6,
   "metadata": {},
   "outputs": [
    {
     "name": "stdout",
     "output_type": "stream",
     "text": [
      "2.78 ms ± 34 µs per loop (mean ± std. dev. of 7 runs, 100 loops each)\n"
     ]
    }
   ],
   "source": [
    "%%timeit\n",
    "tau, sf = structure_function(time, flux)"
   ]
  },
  {
   "cell_type": "code",
   "execution_count": 7,
   "metadata": {},
   "outputs": [],
   "source": [
    "#assert the the results are the same, \n",
    "tau, sf = structure_function(time, flux)\n",
    "tau_ref, sf_ref = StructureFunction(time, flux)\n",
    "idx = np.argsort(tau_ref)\n",
    "assert_allclose(tau, np.array(tau_ref)[idx])\n",
    "assert_allclose(sf, np.array(sf_ref)[idx])"
   ]
  }
 ],
 "metadata": {
  "kernelspec": {
   "display_name": "Python 3",
   "language": "python",
   "name": "python3"
  },
  "language_info": {
   "codemirror_mode": {
    "name": "ipython",
    "version": 3
   },
   "file_extension": ".py",
   "mimetype": "text/x-python",
   "name": "python",
   "nbconvert_exporter": "python",
   "pygments_lexer": "ipython3",
   "version": "3.6.0"
  }
 },
 "nbformat": 4,
 "nbformat_minor": 2
}
