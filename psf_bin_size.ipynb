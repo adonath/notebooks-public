{
 "cells": [
  {
   "cell_type": "markdown",
   "metadata": {},
   "source": [
    "# How to choose spatial pixel size for a given PSF?\n"
   ]
  },
  {
   "cell_type": "code",
   "execution_count": 1,
   "metadata": {},
   "outputs": [],
   "source": [
    "%matplotlib inline\n",
    "import numpy as np\n",
    "import matplotlib.pyplot as plt\n",
    "from scipy.stats import norm"
   ]
  },
  {
   "cell_type": "code",
   "execution_count": 2,
   "metadata": {},
   "outputs": [],
   "source": [
    "from gammapy.utils.gauss import Gauss2DPDF\n",
    "from gammapy.maps import MapAxis"
   ]
  },
  {
   "cell_type": "code",
   "execution_count": 3,
   "metadata": {},
   "outputs": [],
   "source": [
    "def round_up_to_odd(f):\n",
    "    return int(np.ceil(f) // 2 * 2 + 1) + 2\n",
    "\n",
    "def get_binsz(k_max, n):\n",
    "    \"\"\"Get bin size\n",
    "        \n",
    "    Parameters\n",
    "    ----------\n",
    "    k_max : float\n",
    "        Max spatial frequency\n",
    "    n : int\n",
    "        Sample size\n",
    "    \"\"\"\n",
    "    return 0.5 * (n - 1) / (k_max * n)\n",
    "\n"
   ]
  },
  {
   "cell_type": "code",
   "execution_count": 4,
   "metadata": {},
   "outputs": [],
   "source": [
    "sigma = 0.1\n",
    "containment = 1 - 1e-5\n",
    "\n",
    "gauss_psf = Gauss2DPDF(sigma)\n",
    "sigma_max = 5 * sigma #gauss_psf.containment_radius(containment)\n",
    "\n",
    "binsz_desired = 0.02\n",
    "\n",
    "n = round_up_to_odd(2 * sigma_max / binsz_desired)\n",
    "x = np.linspace(-sigma_max, sigma_max, n)\n",
    "y = np.linspace(-sigma_max, sigma_max, n)[:, np.newaxis]\n",
    "binsz = np.mean(np.diff(x))"
   ]
  },
  {
   "cell_type": "code",
   "execution_count": 5,
   "metadata": {},
   "outputs": [
    {
     "data": {
      "text/plain": [
       "Text(0, 0.5, 'y [deg]')"
      ]
     },
     "execution_count": 5,
     "metadata": {},
     "output_type": "execute_result"
    },
    {
     "data": {
      "image/png": "[encoded data removed]",
      "text/plain": [
       "<Figure size 432x288 with 1 Axes>"
      ]
     },
     "metadata": {
      "needs_background": "light"
     },
     "output_type": "display_data"
    }
   ],
   "source": [
    "z = gauss_psf(x, y)\n",
    "plt.imshow(z, extent=[x.min(), x.max(), y.min(), y.max()])\n",
    "plt.xlabel(\"x [deg]\")\n",
    "plt.ylabel(\"y [deg]\")"
   ]
  },
  {
   "cell_type": "code",
   "execution_count": 6,
   "metadata": {},
   "outputs": [],
   "source": [
    "spectrum =  2 * np.pi * (sigma * binsz) ** 2 * np.abs(np.fft.fft2(z))\n",
    "\n",
    "k_x = np.fft.fftfreq(len(x), d=binsz)\n",
    "k_y = np.fft.fftfreq(len(y), d=binsz)\n",
    "\n",
    "idx_x = np.argsort(k_x)\n",
    "idx_y = np.argsort(k_y)[:, np.newaxis]\n",
    "k_x = k_x[idx_x]\n",
    "k_y = k_y[idx_y]\n",
    "\n",
    "spectrum = spectrum[idx_y, idx_x]"
   ]
  },
  {
   "cell_type": "code",
   "execution_count": 7,
   "metadata": {},
   "outputs": [
    {
     "data": {
      "text/plain": [
       "Text(0, 0.5, 'k_y [1/deg]')"
      ]
     },
     "execution_count": 7,
     "metadata": {},
     "output_type": "execute_result"
    },
    {
     "data": {
      "image/png": "[encoded data removed]",
      "text/plain": [
       "<Figure size 432x288 with 1 Axes>"
      ]
     },
     "metadata": {
      "needs_background": "light"
     },
     "output_type": "display_data"
    }
   ],
   "source": [
    "plt.imshow(np.sqrt(spectrum), extent=[k_x.min(), k_x.max(), k_y.min(), k_y.max()])\n",
    "plt.xlabel(\"k_x [1/deg]\")\n",
    "plt.ylabel(\"k_y [1/deg]\")"
   ]
  },
  {
   "cell_type": "code",
   "execution_count": 8,
   "metadata": {},
   "outputs": [
    {
     "data": {
      "text/plain": [
       "<matplotlib.image.AxesImage at 0x103eafe20>"
      ]
     },
     "execution_count": 8,
     "metadata": {},
     "output_type": "execute_result"
    },
    {
     "data": {
      "image/png": "[encoded data removed]",
      "text/plain": [
       "<Figure size 432x288 with 1 Axes>"
      ]
     },
     "metadata": {
      "needs_background": "light"
     },
     "output_type": "display_data"
    }
   ],
   "source": [
    "gauss_psf_k = Gauss2DPDF(sigma=1 / (2 * np.pi * sigma))\n",
    "plt.imshow(gauss_psf_k(k_x, k_y), extent=[k_x.min(), k_x.max(), k_y.min(), k_y.max()])"
   ]
  },
  {
   "cell_type": "code",
   "execution_count": 9,
   "metadata": {},
   "outputs": [],
   "source": [
    "k_max = gauss_psf_k.containment_radius(containment)"
   ]
  },
  {
   "cell_type": "code",
   "execution_count": 10,
   "metadata": {},
   "outputs": [
    {
     "data": {
      "text/plain": [
       "0.06423467074906504"
      ]
     },
     "execution_count": 10,
     "metadata": {},
     "output_type": "execute_result"
    }
   ],
   "source": [
    "get_binsz(k_max, len(x))"
   ]
  },
  {
   "cell_type": "markdown",
   "metadata": {},
   "source": [
    "We first define a Gaussian function:"
   ]
  },
  {
   "cell_type": "code",
   "execution_count": 11,
   "metadata": {},
   "outputs": [],
   "source": [
    "def gauss(x, sigma=0.1):\n",
    "    norm = 1 / np.sqrt(2 * np.pi * sigma ** 2)\n",
    "    return norm * np.exp(- 0.5 * (x  / sigma) ** 2)\n",
    "\n",
    "def gauss_tilde(k, sigma=0.1):\n",
    "    return np.exp(- 0.5 * (2 * np.pi * k * sigma) ** 2)\n",
    "\n",
    "def box(x, width=0.01):\n",
    "    condition = (x > -width) & (x > width) \n",
    "    return np.where(condition, 1, 0)"
   ]
  },
  {
   "cell_type": "code",
   "execution_count": 12,
   "metadata": {},
   "outputs": [
    {
     "data": {
      "image/png": "[encoded data removed]",
      "text/plain": [
       "<Figure size 432x288 with 1 Axes>"
      ]
     },
     "metadata": {
      "needs_background": "light"
     },
     "output_type": "display_data"
    }
   ],
   "source": [
    "sample_size = 0.05\n",
    "sigma = 0.1\n",
    "x_edges = np.arange(-5 * sigma, 5 * sigma, sample_size)\n",
    "x = (x_edges[1:] + x_edges[:-1]) / 2\n",
    "y = norm.pdf(x, scale=sigma)\n",
    "\n",
    "plt.plot(x, y)\n",
    "plt.xlabel(\"x [deg]\")\n",
    "plt.ylabel(\"Norm [A.U]\");"
   ]
  },
  {
   "cell_type": "code",
   "execution_count": 13,
   "metadata": {},
   "outputs": [],
   "source": [
    "spectrum = np.sqrt(2 * np.pi) * sigma * sample_size * np.abs(np.fft.fft(y))\n",
    "\n",
    "n = spectrum.size\n",
    "k = np.fft.fftfreq(n, d=sample_size)\n",
    "idx = np.argsort(k)\n",
    "k, spectrum = k[idx], spectrum[idx]"
   ]
  },
  {
   "cell_type": "code",
   "execution_count": 14,
   "metadata": {},
   "outputs": [
    {
     "data": {
      "image/png": "[encoded data removed]",
      "text/plain": [
       "<Figure size 432x288 with 1 Axes>"
      ]
     },
     "metadata": {
      "needs_background": "light"
     },
     "output_type": "display_data"
    }
   ],
   "source": [
    "plt.plot(k, spectrum, label=\"FFT\")\n",
    "\n",
    "sigma_k = 1 / (2 * np.pi * sigma)\n",
    "\n",
    "k_fine = np.linspace(-5 * sigma_k, 5 * sigma_k, 100)\n",
    "plt.plot(k_fine, norm.pdf(k_fine, scale=sigma_k), ls=\"--\", label=\"Analytical\")\n",
    "plt.legend()\n",
    "plt.xlim(k.min(), k.max());"
   ]
  },
  {
   "cell_type": "code",
   "execution_count": 15,
   "metadata": {},
   "outputs": [],
   "source": [
    "c = 1 - 2 * norm.sf(5)"
   ]
  },
  {
   "cell_type": "code",
   "execution_count": 16,
   "metadata": {},
   "outputs": [],
   "source": [
    "k_max = norm.isf((1 - c) / 2, scale=sigma_k)"
   ]
  },
  {
   "cell_type": "code",
   "execution_count": 17,
   "metadata": {},
   "outputs": [
    {
     "data": {
      "text/plain": [
       "0.062203534540984436"
      ]
     },
     "execution_count": 17,
     "metadata": {},
     "output_type": "execute_result"
    }
   ],
   "source": [
    "get_binsz(k_max, n=100)"
   ]
  },
  {
   "cell_type": "code",
   "execution_count": 18,
   "metadata": {},
   "outputs": [
    {
     "data": {
      "text/plain": [
       "0.9991598418317367"
      ]
     },
     "execution_count": 18,
     "metadata": {},
     "output_type": "execute_result"
    }
   ],
   "source": [
    "norm.cdf(5, scale=sigma_k)"
   ]
  },
  {
   "cell_type": "code",
   "execution_count": 19,
   "metadata": {},
   "outputs": [],
   "source": [
    "from scipy.stats import rv_histogram"
   ]
  },
  {
   "cell_type": "code",
   "execution_count": 20,
   "metadata": {},
   "outputs": [],
   "source": [
    "k = np.sort((np.fft.fftfreq(n + 1, d=sample_size) + 0.5))\n",
    "spec_pdf = rv_histogram((spectrum, k))"
   ]
  },
  {
   "cell_type": "code",
   "execution_count": 21,
   "metadata": {},
   "outputs": [],
   "source": [
    "k_max = max(spec_pdf.interval(0.999999))"
   ]
  },
  {
   "cell_type": "code",
   "execution_count": 22,
   "metadata": {},
   "outputs": [
    {
     "data": {
      "text/plain": [
       "0.05495721342425869"
      ]
     },
     "execution_count": 22,
     "metadata": {},
     "output_type": "execute_result"
    }
   ],
   "source": [
    "get_binsz(k_max, len(spectrum))"
   ]
  }
 ],
 "metadata": {
  "kernelspec": {
   "display_name": "Python 3",
   "language": "python",
   "name": "python3"
  },
  "language_info": {
   "codemirror_mode": {
    "name": "ipython",
    "version": 3
   },
   "file_extension": ".py",
   "mimetype": "text/x-python",
   "name": "python",
   "nbconvert_exporter": "python",
   "pygments_lexer": "ipython3",
   "version": "3.8.6"
  }
 },
 "nbformat": 4,
 "nbformat_minor": 2
}
